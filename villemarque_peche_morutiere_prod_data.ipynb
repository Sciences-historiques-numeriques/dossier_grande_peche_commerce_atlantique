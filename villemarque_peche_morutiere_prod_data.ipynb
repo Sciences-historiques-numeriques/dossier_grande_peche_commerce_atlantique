{
 "cells": [
  {
   "cell_type": "code",
   "execution_count": null,
   "id": "premium-packet",
   "metadata": {},
   "outputs": [],
   "source": []
  },
  {
   "cell_type": "markdown",
   "id": "radio-possible",
   "metadata": {},
   "source": [
    "# Pêche morutière française 1500-1950 – Extraction des données\n",
    "\n",
    "Données issues de :\n",
    "\n",
    "Hersart de La Villemarqué Jacqueline, La  pêche morutière française de 1500 à 1950 : statistiques, climat et société, Plouzané, IFREMER, 1995, https://archimer.ifremer.fr/doc/00486/59783/\n",
    "\n",
    "\n"
   ]
  },
  {
   "cell_type": "code",
   "execution_count": 1,
   "id": "complimentary-darwin",
   "metadata": {},
   "outputs": [],
   "source": [
    "import pdfplumber\n",
    "import re\n",
    "import pandas as pd\n",
    "import sqlite3 as sql\n",
    "import numpy as np\n",
    "\n",
    "import matplotlib.pyplot as plt\n",
    "import seaborn as sns"
   ]
  },
  {
   "cell_type": "markdown",
   "id": "small-remark",
   "metadata": {},
   "source": [
    "# Extraction des pages\n",
    "\n",
    "* Commencer par le tableau de la page 86 (chiffre à insérer ici) correspondant à la page 86 du PDF, et terminer à la p. 132 (ici) correspondant à la p.134 du PDF.\n",
    "* Manquent dans ce PDF les pp. *94 et 95*\n",
    "* Noter aussi que par périodes les données sont lacunaires et que dans l'exposé l'auteur précise qu'il s'agit de valeurs minimum, la réalité étant en dessus."
   ]
  },
  {
   "cell_type": "markdown",
   "id": "annoying-template",
   "metadata": {},
   "source": [
    "### Mise en place"
   ]
  },
  {
   "cell_type": "code",
   "execution_count": 2,
   "id": "outside-berry",
   "metadata": {},
   "outputs": [],
   "source": [
    "###  Ouvrir le fichier avec pdfplumber et créer un objet\n",
    "file = \"./data/villemarque_peche_morutiere/villemarque_peche_morutiere.pdf\"\n",
    "pdf = pdfplumber.open(file)\n",
    "#    print(first_page.chars[0])"
   ]
  },
  {
   "cell_type": "code",
   "execution_count": 5,
   "id": "civilian-death",
   "metadata": {
    "scrolled": true,
    "tags": []
   },
   "outputs": [
    {
     "name": "stdout",
     "output_type": "stream",
     "text": [
      "Numéro de la page :  133\n"
     ]
    },
    {
     "data": {
      "text/plain": [
       "\"134  ANNEXE \\nI Nombre \\nTonnage  Pêche en \\nLieu de  Nombre \\nAnnée  Port de départ  L *ux  pêche  d'hommes  total  tonnes  Références bibliographiques \\n(tonneaux)  métriques \\npartis \\n1948  FECAMP  20  30  0  0  126161 STATPECH 1950 \\n1948  SAINT MALO  8\""
      ]
     },
     "execution_count": 5,
     "metadata": {},
     "output_type": "execute_result"
    }
   ],
   "source": [
    "### Test d'inspection d'une page\n",
    "page = pdf.pages[132]\n",
    "# dir(page)\n",
    "print('Numéro de la page : ', page.page_number)\n",
    "# page.objects\n",
    "p_extract = page.extract_text(x_tolerance=3, y_tolerance=3)\n",
    "p_extract[:250]"
   ]
  },
  {
   "cell_type": "code",
   "execution_count": 6,
   "id": "returning-compilation",
   "metadata": {},
   "outputs": [
    {
     "data": {
      "text/plain": [
       "['(tonneaux)  métriques ',\n",
       " 'partis ',\n",
       " '1948  FECAMP  20  30  0  0  126161 STATPECH 1950 ']"
      ]
     },
     "execution_count": 6,
     "metadata": {},
     "output_type": "execute_result"
    }
   ],
   "source": [
    "try :\n",
    "    lines = p_extract.split('\\n')\n",
    "except Exception as e:\n",
    "    print(e)\n",
    "lines[5:8]"
   ]
  },
  {
   "cell_type": "code",
   "execution_count": 7,
   "id": "marked-briefs",
   "metadata": {},
   "outputs": [
    {
     "data": {
      "text/plain": [
       "['1948  FECAMP  20  30  0  0  126161 STATPECH 1950 ',\n",
       " '1948  SAINT MALO  8  30  0  0  59071 STATPECH 1950 ',\n",
       " '1948  LA ROCHELLE  1  30  0  0  1871  STATPECH 1950 ']"
      ]
     },
     "execution_count": 7,
     "metadata": {},
     "output_type": "execute_result"
    }
   ],
   "source": [
    "years = [re.search(\"^\\d{4}\\s.*\",l).group() for l in lines if re.search(\"^\\d{4}\\s.*\", l) ]\n",
    "years[:3]"
   ]
  },
  {
   "cell_type": "code",
   "execution_count": 8,
   "id": "lined-fleet",
   "metadata": {},
   "outputs": [
    {
     "data": {
      "text/plain": [
       "[[['1948', 'FECAMP', '20', '30', '0', '0', '126161 STATPECH 1950 '], 7],\n",
       " [['1948', 'SAINT MALO', '8', '30', '0', '0', '59071 STATPECH 1950 '], 7],\n",
       " [['1948', 'LA ROCHELLE', '1', '30', '0', '0', '1871', 'STATPECH 1950 '], 8]]"
      ]
     },
     "execution_count": 8,
     "metadata": {},
     "output_type": "execute_result"
    }
   ],
   "source": [
    "s = [[y.split('  '), len(y.split('  '))] for y in years]\n",
    "s[:3]"
   ]
  },
  {
   "cell_type": "markdown",
   "id": "sticky-moment",
   "metadata": {},
   "source": [
    "### Extraction"
   ]
  },
  {
   "cell_type": "code",
   "execution_count": 135,
   "id": "competent-webcam",
   "metadata": {},
   "outputs": [],
   "source": [
    "i = 86\n",
    "result_list = []\n",
    "while i < 133:\n",
    "    try:\n",
    "        page = pdf.pages[i]\n",
    "        if i < 94:\n",
    "            n_page = i\n",
    "        else:\n",
    "            n_page = i + 2\n",
    "        # pn = page.page_number\n",
    "        p_extract = page.extract_text(x_tolerance=3, y_tolerance=3)\n",
    "    except Exception as e:\n",
    "        print('P – p. ' + i + ' – ', e)\n",
    "    try :\n",
    "        lines = p_extract.split('\\n')\n",
    "    except Exception as e:\n",
    "        print('L - p. ' + i + ' – ', e)\n",
    "    years = [re.search(\"^\\d{4}\\s.*\",l).group() for l in lines if re.search(\"^\\d{4}\\s.*\", l) ]\n",
    "    s = [[y.split('  '), len(y.split('  ')), n_page] for y in years]\n",
    "    result_list += s\n",
    "    i += 1"
   ]
  },
  {
   "cell_type": "code",
   "execution_count": 136,
   "id": "lesbian-paris",
   "metadata": {},
   "outputs": [
    {
     "data": {
      "text/plain": [
       "2553"
      ]
     },
     "execution_count": 136,
     "metadata": {},
     "output_type": "execute_result"
    }
   ],
   "source": [
    "len(result_list)"
   ]
  },
  {
   "cell_type": "code",
   "execution_count": 137,
   "id": "concrete-education",
   "metadata": {},
   "outputs": [
    {
     "data": {
      "text/html": [
       "<div>\n",
       "<style scoped>\n",
       "    .dataframe tbody tr th:only-of-type {\n",
       "        vertical-align: middle;\n",
       "    }\n",
       "\n",
       "    .dataframe tbody tr th {\n",
       "        vertical-align: top;\n",
       "    }\n",
       "\n",
       "    .dataframe thead th {\n",
       "        text-align: right;\n",
       "    }\n",
       "</style>\n",
       "<table border=\"1\" class=\"dataframe\">\n",
       "  <thead>\n",
       "    <tr style=\"text-align: right;\">\n",
       "      <th></th>\n",
       "      <th>valeurs</th>\n",
       "      <th>champs</th>\n",
       "      <th>n_page</th>\n",
       "    </tr>\n",
       "  </thead>\n",
       "  <tbody>\n",
       "    <tr>\n",
       "      <th>0</th>\n",
       "      <td>[1508, BREHAT, 1, 30, 0, 0, 0. MORANDIERE 1962 ]</td>\n",
       "      <td>7</td>\n",
       "      <td>86</td>\n",
       "    </tr>\n",
       "    <tr>\n",
       "      <th>1</th>\n",
       "      <td>[1508, ROUEN, 4, 1, 0, 0, o' DARDEL 1941 ]</td>\n",
       "      <td>7</td>\n",
       "      <td>86</td>\n",
       "    </tr>\n",
       "    <tr>\n",
       "      <th>2</th>\n",
       "      <td>[1510, SAINT BRIEUC, 1, 30, 0, 0, 0, MORANDIER...</td>\n",
       "      <td>8</td>\n",
       "      <td>86</td>\n",
       "    </tr>\n",
       "    <tr>\n",
       "      <th>3</th>\n",
       "      <td>[1510, ROUEN, 1, 1, 0, 0, 0, DARDEL 1941 ]</td>\n",
       "      <td>8</td>\n",
       "      <td>86</td>\n",
       "    </tr>\n",
       "    <tr>\n",
       "      <th>4</th>\n",
       "      <td>[1512, BAYONNE, 1, 30, 0, 0, 01 MORANDIERE 1962 ]</td>\n",
       "      <td>7</td>\n",
       "      <td>86</td>\n",
       "    </tr>\n",
       "  </tbody>\n",
       "</table>\n",
       "</div>"
      ],
      "text/plain": [
       "                                             valeurs  champs  n_page\n",
       "0   [1508, BREHAT, 1, 30, 0, 0, 0. MORANDIERE 1962 ]       7      86\n",
       "1         [1508, ROUEN, 4, 1, 0, 0, o' DARDEL 1941 ]       7      86\n",
       "2  [1510, SAINT BRIEUC, 1, 30, 0, 0, 0, MORANDIER...       8      86\n",
       "3         [1510, ROUEN, 1, 1, 0, 0, 0, DARDEL 1941 ]       8      86\n",
       "4  [1512, BAYONNE, 1, 30, 0, 0, 01 MORANDIERE 1962 ]       7      86"
      ]
     },
     "execution_count": 137,
     "metadata": {},
     "output_type": "execute_result"
    }
   ],
   "source": [
    "result_df = pd.DataFrame(result_list, columns=['valeurs','champs','n_page'])\n",
    "result_df.head()"
   ]
  },
  {
   "cell_type": "code",
   "execution_count": 138,
   "id": "retired-courage",
   "metadata": {},
   "outputs": [
    {
     "data": {
      "text/html": [
       "<div>\n",
       "<style scoped>\n",
       "    .dataframe tbody tr th:only-of-type {\n",
       "        vertical-align: middle;\n",
       "    }\n",
       "\n",
       "    .dataframe tbody tr th {\n",
       "        vertical-align: top;\n",
       "    }\n",
       "\n",
       "    .dataframe thead th {\n",
       "        text-align: right;\n",
       "    }\n",
       "</style>\n",
       "<table border=\"1\" class=\"dataframe\">\n",
       "  <thead>\n",
       "    <tr style=\"text-align: right;\">\n",
       "      <th></th>\n",
       "      <th>valeurs</th>\n",
       "      <th>champs</th>\n",
       "      <th>n_page</th>\n",
       "    </tr>\n",
       "  </thead>\n",
       "  <tbody>\n",
       "    <tr>\n",
       "      <th>2548</th>\n",
       "      <td>[1950, | FECAMP, 9, 30, 0, 0, 19070' STATPECH ...</td>\n",
       "      <td>7</td>\n",
       "      <td>134</td>\n",
       "    </tr>\n",
       "    <tr>\n",
       "      <th>2549</th>\n",
       "      <td>[1950, i FECAMP, 1, 60, 0, 0., 85 i STATPECH 1...</td>\n",
       "      <td>7</td>\n",
       "      <td>134</td>\n",
       "    </tr>\n",
       "    <tr>\n",
       "      <th>2550</th>\n",
       "      <td>[1950, SAINT MALO, 13, 30, 0, 0, 3650! STATPEC...</td>\n",
       "      <td>7</td>\n",
       "      <td>134</td>\n",
       "    </tr>\n",
       "    <tr>\n",
       "      <th>2551</th>\n",
       "      <td>[1950, LA ROCHELLE, 2, 30, 0, 0, 2438, STATPEC...</td>\n",
       "      <td>8</td>\n",
       "      <td>134</td>\n",
       "    </tr>\n",
       "    <tr>\n",
       "      <th>2552</th>\n",
       "      <td>[1950, ; BORDEAUX, 7, 30, 0, 0,, 16407, STATPE...</td>\n",
       "      <td>8</td>\n",
       "      <td>134</td>\n",
       "    </tr>\n",
       "  </tbody>\n",
       "</table>\n",
       "</div>"
      ],
      "text/plain": [
       "                                                valeurs  champs  n_page\n",
       "2548  [1950, | FECAMP, 9, 30, 0, 0, 19070' STATPECH ...       7     134\n",
       "2549  [1950, i FECAMP, 1, 60, 0, 0., 85 i STATPECH 1...       7     134\n",
       "2550  [1950, SAINT MALO, 13, 30, 0, 0, 3650! STATPEC...       7     134\n",
       "2551  [1950, LA ROCHELLE, 2, 30, 0, 0, 2438, STATPEC...       8     134\n",
       "2552  [1950, ; BORDEAUX, 7, 30, 0, 0,, 16407, STATPE...       8     134"
      ]
     },
     "execution_count": 138,
     "metadata": {},
     "output_type": "execute_result"
    }
   ],
   "source": [
    "result_df.tail()"
   ]
  },
  {
   "cell_type": "markdown",
   "id": "center-convertible",
   "metadata": {},
   "source": [
    "### Extraction et nettoyage des ports"
   ]
  },
  {
   "cell_type": "code",
   "execution_count": 139,
   "id": "frequent-railway",
   "metadata": {},
   "outputs": [
    {
     "data": {
      "text/plain": [
       "['BREHAT', 'ROUEN', 'SAINT BRIEUC', 'ROUEN', 'BAYONNE']"
      ]
     },
     "execution_count": 139,
     "metadata": {},
     "output_type": "execute_result"
    }
   ],
   "source": [
    "[v[1] for v in result_df['valeurs'] ][:5]"
   ]
  },
  {
   "cell_type": "code",
   "execution_count": 140,
   "id": "extra-italy",
   "metadata": {},
   "outputs": [],
   "source": [
    "### Ajouter une colonne au dataframe contenant les ports\n",
    "result_df['port'] = result_df['valeurs'].apply(lambda x: x[1])"
   ]
  },
  {
   "cell_type": "code",
   "execution_count": 141,
   "id": "characteristic-workshop",
   "metadata": {
    "tags": []
   },
   "outputs": [
    {
     "data": {
      "text/plain": [
       "0             BREHAT\n",
       "1              ROUEN\n",
       "2       SAINT BRIEUC\n",
       "3              ROUEN\n",
       "4            BAYONNE\n",
       "            ...     \n",
       "2548        | FECAMP\n",
       "2549        i FECAMP\n",
       "2550      SAINT MALO\n",
       "2551     LA ROCHELLE\n",
       "2552      ; BORDEAUX\n",
       "Name: port, Length: 2553, dtype: object"
      ]
     },
     "execution_count": 141,
     "metadata": {},
     "output_type": "execute_result"
    }
   ],
   "source": [
    "result_df['port']"
   ]
  },
  {
   "cell_type": "code",
   "execution_count": 142,
   "id": "organizational-gazette",
   "metadata": {
    "tags": []
   },
   "outputs": [],
   "source": [
    "result_df['port'] = result_df['port'].apply(lambda x: x.replace('ST MALO', 'SAINT MALO'))\n",
    "result_df['port'] = result_df['port'].apply(lambda x: x.replace('STMALO', 'SAINT MALO'))\n",
    "result_df['port'] = result_df['port'].apply(lambda x: x.replace('.SAINT MALO', 'SAINT MALO'))\n",
    "\n",
    "result_df['port'] = result_df['port'].apply(lambda x: x.replace('SANT NAZARE', 'SAINT NAZARE'))\n",
    "\n",
    "result_df['port'] = result_df['port'].apply(lambda x: x.replace('ST BRIEUC', 'SAINT BRIEUC'))\n",
    "result_df['port'] = result_df['port'].apply(lambda x: x.replace('STBRIEUC', 'SAINT BRIEUC'))\n",
    "result_df['port'] = result_df['port'].apply(lambda x: x.replace('SYBRIEUC', 'SAINT BRIEUC'))\n",
    "result_df['port'] = result_df['port'].apply(lambda x: x.replace('SAINT 8RIEUC', 'SAINT BRIEUC'))\n",
    "\n",
    "\n",
    "result_df['port'] = result_df['port'].apply(lambda x: x.replace('inconnu', 'Inconnu'))\n",
    "\n",
    "result_df['port'] = result_df['port'].apply(lambda x: x.replace('ST PIERRE', 'SAINT PIERRE'))\n",
    "\n",
    "result_df['port'] = result_df['port'].apply(lambda x: x.replace('GRAVEUNES', 'GRAVELINES'))\n",
    "\n",
    "result_df['port'] = result_df['port'].apply(lambda x: x.replace('STVALCAUX', 'SAINT-VALERY-EN-CAUX'))\n",
    "result_df['port'] = result_df['port'].apply(lambda x: x.replace('ST VALERY CAUX', 'SAINT-VALERY-EN-CAUX'))\n",
    "result_df['port'] = result_df['port'].apply(lambda x: x.replace('ST VAL CAUX', 'SAINT-VALERY-EN-CAUX'))\n",
    "\n",
    "result_df['port'] = result_df['port'].apply(lambda x: x.replace('ST JEAN LUZ', 'SAINT JEAN LUZ'))\n",
    "result_df['port'] = result_df['port'].apply(lambda x: x.replace('ST JEAN LUZ', 'SAINT JEAN LUZ'))\n",
    "\n",
    "result_df['port'] = result_df['port'].apply(lambda x: x.replace(\"SABLES DOLONNE\", \"SABLES D'OLONNE\"))\n",
    "result_df['port'] = result_df['port'].apply(lambda x: x.replace(\"SABLES D'OLONNË\", \"SABLES D'OLONNE\"))\n",
    "result_df['port'] = result_df['port'].apply(lambda x: x.replace('DOLONNE', \"D'OLONNE\"))\n",
    "result_df['port'] = result_df['port'].apply(lambda x: x.replace('SABLES OLONNE', \"SABLES D'OLONNE\"))\n",
    "\n",
    "result_df['port'] = result_df['port'].apply(lambda x: x.replace('i', '').strip())\n",
    "result_df['port'] = result_df['port'].apply(lambda x: x.replace('!', '').strip())\n",
    "result_df['port'] = result_df['port'].apply(lambda x: x.replace(',', '').strip())\n",
    "result_df['port'] = result_df['port'].apply(lambda x: x.replace('.', '').strip())\n",
    "result_df['port'] = result_df['port'].apply(lambda x: x.replace(';', '').strip())\n",
    "result_df['port'] = result_df['port'].apply(lambda x: x.replace(\",\", '').strip())\n",
    "result_df['port'] = result_df['port'].apply(lambda x: x.replace('j', '').strip())\n",
    "result_df['port'] = result_df['port'].apply(lambda x: x.replace('l', '').strip())\n",
    "result_df['port'] = result_df['port'].apply(lambda x: x.replace('1', '').strip())\n",
    "result_df['port'] = result_df['port'].apply(lambda x: x.replace('|', '').strip())\n",
    "result_df['port'] = result_df['port'].apply(lambda x: x.replace(':', '').strip())\n",
    "result_df['port'] = result_df['port'].apply(lambda x: x.replace('\"', '').strip())\n",
    "result_df['port'] = result_df['port'].apply(lambda x: x.replace('^', '').strip())\n",
    "result_df['port'] = result_df['port'].apply(lambda x: x.replace(\"' \", '').strip())\n",
    "result_df['port'] = result_df['port'].apply(lambda x: x.replace(\"•\", '').strip())\n",
    "result_df['port'] = result_df['port'].apply(lambda x: x.replace(\"••\", '').strip())\n",
    "result_df['port'] = result_df['port'].apply(lambda x: x.replace(\"(\", '').strip())\n",
    "result_df['port'] = result_df['port'].apply(lambda x: x.replace(\"[\", '').strip())\n",
    "result_df['port'] = result_df['port'].apply(lambda x: x.replace(\"••\", '').strip())"
   ]
  },
  {
   "cell_type": "code",
   "execution_count": 143,
   "id": "alike-stroke",
   "metadata": {
    "scrolled": true,
    "tags": []
   },
   "outputs": [
    {
     "data": {
      "text/plain": [
       "[['ST MAL0', 1],\n",
       " ['SAINT-PIERRE', 1],\n",
       " ['ROCHEFORT', 1],\n",
       " ['SETE', 1],\n",
       " ['ST NAZAIRE', 1]]"
      ]
     },
     "execution_count": 143,
     "metadata": {},
     "output_type": "execute_result"
    }
   ],
   "source": [
    "# dir(result_df['port'].value_counts())\n",
    "t = [[l,v] for l,v in result_df['port'].value_counts().iteritems()]\n",
    "t[60:65]\n",
    "# t"
   ]
  },
  {
   "cell_type": "markdown",
   "id": "later-flour",
   "metadata": {},
   "source": [
    "### Extraction et nettoyage des années"
   ]
  },
  {
   "cell_type": "code",
   "execution_count": 144,
   "id": "unlikely-wyoming",
   "metadata": {},
   "outputs": [],
   "source": [
    "### Ajouter une colonne au dataframe contenant les annees\n",
    "result_df['annee'] = result_df['valeurs'].apply(lambda x: x[0])"
   ]
  },
  {
   "cell_type": "code",
   "execution_count": 145,
   "id": "optical-orchestra",
   "metadata": {},
   "outputs": [
    {
     "data": {
      "text/plain": [
       "0       1508\n",
       "1       1508\n",
       "2       1510\n",
       "3       1510\n",
       "4       1512\n",
       "        ... \n",
       "2548    1950\n",
       "2549    1950\n",
       "2550    1950\n",
       "2551    1950\n",
       "2552    1950\n",
       "Name: annee, Length: 2553, dtype: object"
      ]
     },
     "execution_count": 145,
     "metadata": {},
     "output_type": "execute_result"
    }
   ],
   "source": [
    "result_df['annee']"
   ]
  },
  {
   "cell_type": "code",
   "execution_count": 146,
   "id": "essential-beginning",
   "metadata": {
    "tags": []
   },
   "outputs": [],
   "source": [
    "result_df['annee'] = result_df['annee'].apply(lambda x: x.replace(\"'\", '').strip())\n",
    "result_df['annee'] = result_df['annee'].apply(lambda x: x.replace('\"', '').strip())\n",
    "result_df['annee'] = result_df['annee'].apply(lambda x: x.replace('7791', '1791').strip())\n",
    "result_df['annee'] = result_df['annee'].apply(lambda x: int(x))"
   ]
  },
  {
   "cell_type": "code",
   "execution_count": 147,
   "id": "spectacular-milton",
   "metadata": {},
   "outputs": [
    {
     "data": {
      "text/plain": [
       "[[1786, 27],\n",
       " [1919, 26],\n",
       " [1784, 24],\n",
       " [1818, 24],\n",
       " [1899, 23],\n",
       " [1889, 23],\n",
       " [1773, 23],\n",
       " [1921, 22],\n",
       " [1932, 22],\n",
       " [1896, 21]]"
      ]
     },
     "execution_count": 147,
     "metadata": {},
     "output_type": "execute_result"
    }
   ],
   "source": [
    "count_annees = [[l,v] for l,v in result_df['annee'].value_counts().iteritems()]\n",
    "count_annees[:10]"
   ]
  },
  {
   "cell_type": "markdown",
   "id": "divided-target",
   "metadata": {},
   "source": [
    "### Extraction et nettoyage des effectifs des bateaux"
   ]
  },
  {
   "cell_type": "code",
   "execution_count": 148,
   "id": "digital-junior",
   "metadata": {},
   "outputs": [],
   "source": [
    "### Ajouter une colonne au dataframe contenant les effectifs des bateaux partis\n",
    "result_df['eff_bateaux'] = result_df['valeurs'].apply(lambda x: x[2])"
   ]
  },
  {
   "cell_type": "code",
   "execution_count": 149,
   "id": "renewable-honolulu",
   "metadata": {},
   "outputs": [
    {
     "data": {
      "text/plain": [
       "0        1\n",
       "1        4\n",
       "2        1\n",
       "3        1\n",
       "4        1\n",
       "        ..\n",
       "2548     9\n",
       "2549     1\n",
       "2550    13\n",
       "2551     2\n",
       "2552     7\n",
       "Name: eff_bateaux, Length: 2553, dtype: object"
      ]
     },
     "execution_count": 149,
     "metadata": {},
     "output_type": "execute_result"
    }
   ],
   "source": [
    "result_df['eff_bateaux']"
   ]
  },
  {
   "cell_type": "code",
   "execution_count": 150,
   "id": "civilian-exhibit",
   "metadata": {
    "tags": []
   },
   "outputs": [],
   "source": [
    "result_df['eff_bateaux'] = result_df['eff_bateaux'].apply(lambda x: x.replace(\"|\", '').strip())\n",
    "result_df['eff_bateaux'] = result_df['eff_bateaux'].apply(lambda x: x.replace(\"561\", '56').strip())\n",
    "result_df['eff_bateaux'] = result_df['eff_bateaux'].apply(lambda x: x.replace(\"L\", '').strip())\n",
    "result_df['eff_bateaux'] = result_df['eff_bateaux'].apply(lambda x: x.replace(\".\", '').strip())\n",
    "result_df['eff_bateaux'] = result_df['eff_bateaux'].apply(lambda x: x.replace(\"_\", '').strip())\n",
    "result_df['eff_bateaux'] = result_df['eff_bateaux'].apply(lambda x: x.replace(\"P\", '').strip())\n",
    "result_df['eff_bateaux'] = result_df['eff_bateaux'].apply(lambda x: x.replace(\"I\", '').strip())\n",
    "result_df['eff_bateaux'] = result_df['eff_bateaux'].apply(lambda x: x.replace(\"j\", '').strip())\n",
    "result_df['eff_bateaux'] = result_df['eff_bateaux'].apply(lambda x: x.replace(\"l\", '').strip())\n",
    "result_df['eff_bateaux'] = result_df['eff_bateaux'].apply(lambda x: x.replace('\"', '').strip())\n",
    "result_df['eff_bateaux'] = result_df['eff_bateaux'].apply(lambda x: x.replace('i', '1').strip())\n",
    "result_df['eff_bateaux'] = result_df['eff_bateaux'].apply(lambda x: x.replace('H', '').strip())\n",
    "result_df['eff_bateaux'] = result_df['eff_bateaux'].apply(lambda x: x.replace('!', '').strip())\n",
    "result_df['eff_bateaux'] = result_df['eff_bateaux'].apply(lambda x: x.replace(':', '').strip())\n",
    "result_df['eff_bateaux'] = result_df['eff_bateaux'].apply(lambda x: x.replace(';', '').strip())\n",
    "result_df['eff_bateaux'] = result_df['eff_bateaux'].apply(lambda x: x.replace(']', '').strip())\n",
    "result_df['eff_bateaux'] = result_df['eff_bateaux'].apply(lambda x: x.replace(',', '').strip())"
   ]
  },
  {
   "cell_type": "code",
   "execution_count": 151,
   "id": "contrary-thriller",
   "metadata": {
    "scrolled": true,
    "tags": []
   },
   "outputs": [
    {
     "data": {
      "text/plain": [
       "[['o', 7], ['48', 7], ['55', 7], ['58', 6], ['80', 6]]"
      ]
     },
     "execution_count": 151,
     "metadata": {},
     "output_type": "execute_result"
    }
   ],
   "source": [
    "eff_bateaux = [[l,v] for l,v in result_df['eff_bateaux'].value_counts().iteritems()]\n",
    "eff_bateaux[60:65]"
   ]
  },
  {
   "cell_type": "markdown",
   "id": "imperial-sphere",
   "metadata": {},
   "source": [
    "### Lieux de pêche"
   ]
  },
  {
   "cell_type": "code",
   "execution_count": 152,
   "id": "former-fusion",
   "metadata": {},
   "outputs": [],
   "source": [
    "### Ajouter une colonne au dataframe contenant les codes des lieux de pêche\n",
    "result_df['lieu_peche'] = result_df['valeurs'].apply(lambda x: x[3])"
   ]
  },
  {
   "cell_type": "code",
   "execution_count": 153,
   "id": "eight-marriage",
   "metadata": {},
   "outputs": [
    {
     "data": {
      "text/plain": [
       "0       30\n",
       "1        1\n",
       "2       30\n",
       "3        1\n",
       "4       30\n",
       "        ..\n",
       "2548    30\n",
       "2549    60\n",
       "2550    30\n",
       "2551    30\n",
       "2552    30\n",
       "Name: lieu_peche, Length: 2553, dtype: object"
      ]
     },
     "execution_count": 153,
     "metadata": {},
     "output_type": "execute_result"
    }
   ],
   "source": [
    "result_df['lieu_peche']"
   ]
  },
  {
   "cell_type": "code",
   "execution_count": 154,
   "id": "signal-prospect",
   "metadata": {},
   "outputs": [],
   "source": [
    "result_df['lieu_peche'] = result_df['lieu_peche'].apply(lambda x: x.replace(\"i\", '').strip())\n",
    "result_df['lieu_peche'] = result_df['lieu_peche'].apply(lambda x: x.replace(\"!\", '').strip())\n",
    "result_df['lieu_peche'] = result_df['lieu_peche'].apply(lambda x: x.replace(\"J\", '').strip())\n",
    "result_df['lieu_peche'] = result_df['lieu_peche'].apply(lambda x: x.replace(\"l\", '').strip())\n",
    "result_df['lieu_peche'] = result_df['lieu_peche'].apply(lambda x: x.replace(\",\", '').strip())\n",
    "result_df['lieu_peche'] = result_df['lieu_peche'].apply(lambda x: x.replace(\"|\", '').strip())\n",
    "result_df['lieu_peche'] = result_df['lieu_peche'].apply(lambda x: x.replace(\":\", '').strip())\n",
    "result_df['lieu_peche'] = result_df['lieu_peche'].apply(lambda x: x.replace(\"'\", '').strip())\n",
    "result_df['lieu_peche'] = result_df['lieu_peche'].apply(lambda x: x.replace('\"', '').strip())\n",
    "result_df['lieu_peche'] = result_df['lieu_peche'].apply(lambda x: x.replace('501', '50').strip())"
   ]
  },
  {
   "cell_type": "code",
   "execution_count": 155,
   "id": "speaking-korea",
   "metadata": {
    "scrolled": true,
    "tags": []
   },
   "outputs": [
    {
     "data": {
      "text/plain": [
       "[['75', 1], ['65 ^', 1], ['78', 1], ['17', 1], ['50 r', 1]]"
      ]
     },
     "execution_count": 155,
     "metadata": {},
     "output_type": "execute_result"
    }
   ],
   "source": [
    "lieu_peche = [[l,v] for l,v in result_df['lieu_peche'].value_counts().iteritems()]\n",
    "lieu_peche[-5:]"
   ]
  },
  {
   "cell_type": "markdown",
   "id": "weighted-jacob",
   "metadata": {},
   "source": [
    "### Ajout des labels des lieux de pêche"
   ]
  },
  {
   "cell_type": "code",
   "execution_count": 156,
   "id": "individual-grain",
   "metadata": {
    "scrolled": true,
    "tags": []
   },
   "outputs": [
    {
     "data": {
      "text/html": [
       "<div>\n",
       "<style scoped>\n",
       "    .dataframe tbody tr th:only-of-type {\n",
       "        vertical-align: middle;\n",
       "    }\n",
       "\n",
       "    .dataframe tbody tr th {\n",
       "        vertical-align: top;\n",
       "    }\n",
       "\n",
       "    .dataframe thead th {\n",
       "        text-align: right;\n",
       "    }\n",
       "</style>\n",
       "<table border=\"1\" class=\"dataframe\">\n",
       "  <thead>\n",
       "    <tr style=\"text-align: right;\">\n",
       "      <th></th>\n",
       "      <th>code</th>\n",
       "      <th>label</th>\n",
       "    </tr>\n",
       "  </thead>\n",
       "  <tbody>\n",
       "    <tr>\n",
       "      <th>0</th>\n",
       "      <td>1</td>\n",
       "      <td>Lieu de pêche imprécis, Terre-Neuve au sens large</td>\n",
       "    </tr>\n",
       "    <tr>\n",
       "      <th>1</th>\n",
       "      <td>10</td>\n",
       "      <td>Grand Banc de Terre-Neuve</td>\n",
       "    </tr>\n",
       "    <tr>\n",
       "      <th>2</th>\n",
       "      <td>20</td>\n",
       "      <td>Iles Saint-Pierre-et-Miquelon</td>\n",
       "    </tr>\n",
       "    <tr>\n",
       "      <th>3</th>\n",
       "      <td>30</td>\n",
       "      <td>Côtes de Terre-Neuve</td>\n",
       "    </tr>\n",
       "    <tr>\n",
       "      <th>4</th>\n",
       "      <td>31</td>\n",
       "      <td>Terre-Neuve : Plaisance</td>\n",
       "    </tr>\n",
       "    <tr>\n",
       "      <th>5</th>\n",
       "      <td>32</td>\n",
       "      <td>Terre-Neuve : Petit-Nord</td>\n",
       "    </tr>\n",
       "    <tr>\n",
       "      <th>6</th>\n",
       "      <td>33</td>\n",
       "      <td>Terre-Neuve : côte occidentale</td>\n",
       "    </tr>\n",
       "    <tr>\n",
       "      <th>7</th>\n",
       "      <td>40</td>\n",
       "      <td>Canada</td>\n",
       "    </tr>\n",
       "    <tr>\n",
       "      <th>8</th>\n",
       "      <td>41</td>\n",
       "      <td>Côte du Labrador</td>\n",
       "    </tr>\n",
       "    <tr>\n",
       "      <th>9</th>\n",
       "      <td>42</td>\n",
       "      <td>Ile Saint-Jean (Ile du Prince-Edouard)</td>\n",
       "    </tr>\n",
       "    <tr>\n",
       "      <th>10</th>\n",
       "      <td>43</td>\n",
       "      <td>Golfe du Saint-Laurent</td>\n",
       "    </tr>\n",
       "    <tr>\n",
       "      <th>11</th>\n",
       "      <td>44</td>\n",
       "      <td>Acadie</td>\n",
       "    </tr>\n",
       "    <tr>\n",
       "      <th>12</th>\n",
       "      <td>45</td>\n",
       "      <td>Ile Royale (Ile du Cap-Breton)</td>\n",
       "    </tr>\n",
       "    <tr>\n",
       "      <th>13</th>\n",
       "      <td>46</td>\n",
       "      <td>Nouvelle-Angleterre</td>\n",
       "    </tr>\n",
       "    <tr>\n",
       "      <th>14</th>\n",
       "      <td>50</td>\n",
       "      <td>Islande</td>\n",
       "    </tr>\n",
       "    <tr>\n",
       "      <th>15</th>\n",
       "      <td>60</td>\n",
       "      <td>Groenland</td>\n",
       "    </tr>\n",
       "    <tr>\n",
       "      <th>16</th>\n",
       "      <td>70</td>\n",
       "      <td>Mer du Nord</td>\n",
       "    </tr>\n",
       "    <tr>\n",
       "      <th>17</th>\n",
       "      <td>71</td>\n",
       "      <td>Dogger Bank</td>\n",
       "    </tr>\n",
       "    <tr>\n",
       "      <th>18</th>\n",
       "      <td>72</td>\n",
       "      <td>Hitland (Iles Shetland)</td>\n",
       "    </tr>\n",
       "    <tr>\n",
       "      <th>19</th>\n",
       "      <td>75</td>\n",
       "      <td>Mer Baltique</td>\n",
       "    </tr>\n",
       "    <tr>\n",
       "      <th>20</th>\n",
       "      <td>80</td>\n",
       "      <td>Mer de Barentz (Péninsule de Kola)</td>\n",
       "    </tr>\n",
       "  </tbody>\n",
       "</table>\n",
       "</div>"
      ],
      "text/plain": [
       "    code                                              label\n",
       "0      1  Lieu de pêche imprécis, Terre-Neuve au sens large\n",
       "1     10                          Grand Banc de Terre-Neuve\n",
       "2     20                      Iles Saint-Pierre-et-Miquelon\n",
       "3     30                               Côtes de Terre-Neuve\n",
       "4     31                            Terre-Neuve : Plaisance\n",
       "5     32                           Terre-Neuve : Petit-Nord\n",
       "6     33                     Terre-Neuve : côte occidentale\n",
       "7     40                                             Canada\n",
       "8     41                                   Côte du Labrador\n",
       "9     42             Ile Saint-Jean (Ile du Prince-Edouard)\n",
       "10    43                             Golfe du Saint-Laurent\n",
       "11    44                                             Acadie\n",
       "12    45                     Ile Royale (Ile du Cap-Breton)\n",
       "13    46                                Nouvelle-Angleterre\n",
       "14    50                                            Islande\n",
       "15    60                                          Groenland\n",
       "16    70                                        Mer du Nord\n",
       "17    71                                        Dogger Bank\n",
       "18    72                            Hitland (Iles Shetland)\n",
       "19    75                                       Mer Baltique\n",
       "20    80                 Mer de Barentz (Péninsule de Kola)"
      ]
     },
     "execution_count": 156,
     "metadata": {},
     "output_type": "execute_result"
    }
   ],
   "source": [
    "chemin = 'data/villemarque_peche_morutiere/villemarque_codes_lieux_peche.csv'\n",
    "codes = pd.read_csv(chemin, sep='|', names=['code', 'label'])\n",
    "codes"
   ]
  },
  {
   "cell_type": "code",
   "execution_count": 157,
   "id": "complicated-regular",
   "metadata": {},
   "outputs": [],
   "source": [
    "codes['code'] = codes['code'].apply(lambda x: str(x))\n",
    "#result_df['code'] = result_df['code'].apply(lambda x: int(x))"
   ]
  },
  {
   "cell_type": "markdown",
   "id": "informational-foundation",
   "metadata": {},
   "source": [
    "### Jointure des deux tableaux"
   ]
  },
  {
   "cell_type": "code",
   "execution_count": 184,
   "id": "naughty-blend",
   "metadata": {},
   "outputs": [
    {
     "data": {
      "text/html": [
       "<div>\n",
       "<style scoped>\n",
       "    .dataframe tbody tr th:only-of-type {\n",
       "        vertical-align: middle;\n",
       "    }\n",
       "\n",
       "    .dataframe tbody tr th {\n",
       "        vertical-align: top;\n",
       "    }\n",
       "\n",
       "    .dataframe thead th {\n",
       "        text-align: right;\n",
       "    }\n",
       "</style>\n",
       "<table border=\"1\" class=\"dataframe\">\n",
       "  <thead>\n",
       "    <tr style=\"text-align: right;\">\n",
       "      <th></th>\n",
       "      <th>valeurs</th>\n",
       "      <th>champs</th>\n",
       "      <th>n_page</th>\n",
       "      <th>port</th>\n",
       "      <th>annee</th>\n",
       "      <th>eff_bateaux</th>\n",
       "      <th>lieu_peche</th>\n",
       "      <th>code</th>\n",
       "      <th>label</th>\n",
       "      <th>_merge</th>\n",
       "    </tr>\n",
       "  </thead>\n",
       "  <tbody>\n",
       "    <tr>\n",
       "      <th>140</th>\n",
       "      <td>[1614, HONFLEUR, 15, 30, 0, 140, 0, BREARD 1899 ]</td>\n",
       "      <td>8</td>\n",
       "      <td>88</td>\n",
       "      <td>HONFLEUR</td>\n",
       "      <td>1614</td>\n",
       "      <td>15</td>\n",
       "      <td>30</td>\n",
       "      <td>30</td>\n",
       "      <td>Côtes de Terre-Neuve</td>\n",
       "      <td>both</td>\n",
       "    </tr>\n",
       "    <tr>\n",
       "      <th>141</th>\n",
       "      <td>[1614, DUNKERQUE, 7, 50, 0, 0, 0! RIN 1936 ]</td>\n",
       "      <td>7</td>\n",
       "      <td>88</td>\n",
       "      <td>DUNKERQUE</td>\n",
       "      <td>1614</td>\n",
       "      <td>7</td>\n",
       "      <td>50</td>\n",
       "      <td>50</td>\n",
       "      <td>Islande</td>\n",
       "      <td>both</td>\n",
       "    </tr>\n",
       "    <tr>\n",
       "      <th>142</th>\n",
       "      <td>[1615, HONFLEUR, 10, 1, 0, 290, OTBRE ARD, 1899 ]</td>\n",
       "      <td>8</td>\n",
       "      <td>88</td>\n",
       "      <td>HONFLEUR</td>\n",
       "      <td>1615</td>\n",
       "      <td>10</td>\n",
       "      <td>1</td>\n",
       "      <td>1</td>\n",
       "      <td>Lieu de pêche imprécis, Terre-Neuve au sens large</td>\n",
       "      <td>both</td>\n",
       "    </tr>\n",
       "    <tr>\n",
       "      <th>143</th>\n",
       "      <td>[1615, SAINT MALO, 7, 32, 0, 0, 0, MORAND, JRE...</td>\n",
       "      <td>8</td>\n",
       "      <td>88</td>\n",
       "      <td>SAINT MALO</td>\n",
       "      <td>1615</td>\n",
       "      <td>7</td>\n",
       "      <td>32</td>\n",
       "      <td>32</td>\n",
       "      <td>Terre-Neuve : Petit-Nord</td>\n",
       "      <td>both</td>\n",
       "    </tr>\n",
       "    <tr>\n",
       "      <th>144</th>\n",
       "      <td>[1616, HONFLEUR, \"Ï3, 1, 0, 0, \" 0 BREARD J899 ]</td>\n",
       "      <td>7</td>\n",
       "      <td>88</td>\n",
       "      <td>HONFLEUR</td>\n",
       "      <td>1616</td>\n",
       "      <td>Ï3</td>\n",
       "      <td>1</td>\n",
       "      <td>1</td>\n",
       "      <td>Lieu de pêche imprécis, Terre-Neuve au sens large</td>\n",
       "      <td>both</td>\n",
       "    </tr>\n",
       "  </tbody>\n",
       "</table>\n",
       "</div>"
      ],
      "text/plain": [
       "                                               valeurs  champs  n_page  \\\n",
       "140  [1614, HONFLEUR, 15, 30, 0, 140, 0, BREARD 1899 ]       8      88   \n",
       "141       [1614, DUNKERQUE, 7, 50, 0, 0, 0! RIN 1936 ]       7      88   \n",
       "142  [1615, HONFLEUR, 10, 1, 0, 290, OTBRE ARD, 1899 ]       8      88   \n",
       "143  [1615, SAINT MALO, 7, 32, 0, 0, 0, MORAND, JRE...       8      88   \n",
       "144   [1616, HONFLEUR, \"Ï3, 1, 0, 0, \" 0 BREARD J899 ]       7      88   \n",
       "\n",
       "           port  annee eff_bateaux lieu_peche code  \\\n",
       "140    HONFLEUR   1614          15         30   30   \n",
       "141   DUNKERQUE   1614           7         50   50   \n",
       "142    HONFLEUR   1615          10          1    1   \n",
       "143  SAINT MALO   1615           7         32   32   \n",
       "144    HONFLEUR   1616          Ï3          1    1   \n",
       "\n",
       "                                                 label _merge  \n",
       "140                               Côtes de Terre-Neuve   both  \n",
       "141                                            Islande   both  \n",
       "142  Lieu de pêche imprécis, Terre-Neuve au sens large   both  \n",
       "143                           Terre-Neuve : Petit-Nord   both  \n",
       "144  Lieu de pêche imprécis, Terre-Neuve au sens large   both  "
      ]
     },
     "execution_count": 184,
     "metadata": {},
     "output_type": "execute_result"
    }
   ],
   "source": [
    "result_dfm = result_df.merge(codes, left_on = 'lieu_peche', right_on ='code', how='left', indicator=True)\n",
    "result_dfm.iloc[140:145]"
   ]
  },
  {
   "cell_type": "markdown",
   "id": "promotional-lafayette",
   "metadata": {},
   "source": [
    "## Stockage du résultat dans une BD SQLite"
   ]
  },
  {
   "cell_type": "code",
   "execution_count": 185,
   "id": "reflected-liverpool",
   "metadata": {},
   "outputs": [
    {
     "data": {
      "text/plain": [
       "['1614', 'HONFLEUR', '15', '30', '0', '140', '0', 'BREARD 1899 ']"
      ]
     },
     "execution_count": 185,
     "metadata": {},
     "output_type": "execute_result"
    }
   ],
   "source": [
    "### Test\n",
    "'///'.join(result_dfm.iloc[140][0]).split('///')"
   ]
  },
  {
   "cell_type": "code",
   "execution_count": 186,
   "id": "bright-score",
   "metadata": {},
   "outputs": [
    {
     "data": {
      "text/html": [
       "<div>\n",
       "<style scoped>\n",
       "    .dataframe tbody tr th:only-of-type {\n",
       "        vertical-align: middle;\n",
       "    }\n",
       "\n",
       "    .dataframe tbody tr th {\n",
       "        vertical-align: top;\n",
       "    }\n",
       "\n",
       "    .dataframe thead th {\n",
       "        text-align: right;\n",
       "    }\n",
       "</style>\n",
       "<table border=\"1\" class=\"dataframe\">\n",
       "  <thead>\n",
       "    <tr style=\"text-align: right;\">\n",
       "      <th></th>\n",
       "      <th>valeurs</th>\n",
       "      <th>champs</th>\n",
       "      <th>n_page</th>\n",
       "      <th>port</th>\n",
       "      <th>annee</th>\n",
       "      <th>eff_bateaux</th>\n",
       "      <th>lieu_peche</th>\n",
       "      <th>code</th>\n",
       "      <th>label</th>\n",
       "      <th>_merge</th>\n",
       "    </tr>\n",
       "  </thead>\n",
       "  <tbody>\n",
       "    <tr>\n",
       "      <th>2548</th>\n",
       "      <td>1950///| FECAMP///9///30///0///0///19070' STAT...</td>\n",
       "      <td>7</td>\n",
       "      <td>134</td>\n",
       "      <td>FECAMP</td>\n",
       "      <td>1950</td>\n",
       "      <td>9</td>\n",
       "      <td>30</td>\n",
       "      <td>30</td>\n",
       "      <td>Côtes de Terre-Neuve</td>\n",
       "      <td>both</td>\n",
       "    </tr>\n",
       "    <tr>\n",
       "      <th>2549</th>\n",
       "      <td>1950///i FECAMP///1///60///0///0.///85 i STATP...</td>\n",
       "      <td>7</td>\n",
       "      <td>134</td>\n",
       "      <td>FECAMP</td>\n",
       "      <td>1950</td>\n",
       "      <td>1</td>\n",
       "      <td>60</td>\n",
       "      <td>60</td>\n",
       "      <td>Groenland</td>\n",
       "      <td>both</td>\n",
       "    </tr>\n",
       "    <tr>\n",
       "      <th>2550</th>\n",
       "      <td>1950///SAINT MALO///13///30///0///0///3650! ST...</td>\n",
       "      <td>7</td>\n",
       "      <td>134</td>\n",
       "      <td>SAINT MALO</td>\n",
       "      <td>1950</td>\n",
       "      <td>13</td>\n",
       "      <td>30</td>\n",
       "      <td>30</td>\n",
       "      <td>Côtes de Terre-Neuve</td>\n",
       "      <td>both</td>\n",
       "    </tr>\n",
       "    <tr>\n",
       "      <th>2551</th>\n",
       "      <td>1950///LA ROCHELLE///2///30///0///0///2438///S...</td>\n",
       "      <td>8</td>\n",
       "      <td>134</td>\n",
       "      <td>LA ROCHELLE</td>\n",
       "      <td>1950</td>\n",
       "      <td>2</td>\n",
       "      <td>30</td>\n",
       "      <td>30</td>\n",
       "      <td>Côtes de Terre-Neuve</td>\n",
       "      <td>both</td>\n",
       "    </tr>\n",
       "    <tr>\n",
       "      <th>2552</th>\n",
       "      <td>1950///; BORDEAUX///7///30///0///0,///16407///...</td>\n",
       "      <td>8</td>\n",
       "      <td>134</td>\n",
       "      <td>BORDEAUX</td>\n",
       "      <td>1950</td>\n",
       "      <td>7</td>\n",
       "      <td>30</td>\n",
       "      <td>30</td>\n",
       "      <td>Côtes de Terre-Neuve</td>\n",
       "      <td>both</td>\n",
       "    </tr>\n",
       "  </tbody>\n",
       "</table>\n",
       "</div>"
      ],
      "text/plain": [
       "                                                valeurs  champs  n_page  \\\n",
       "2548  1950///| FECAMP///9///30///0///0///19070' STAT...       7     134   \n",
       "2549  1950///i FECAMP///1///60///0///0.///85 i STATP...       7     134   \n",
       "2550  1950///SAINT MALO///13///30///0///0///3650! ST...       7     134   \n",
       "2551  1950///LA ROCHELLE///2///30///0///0///2438///S...       8     134   \n",
       "2552  1950///; BORDEAUX///7///30///0///0,///16407///...       8     134   \n",
       "\n",
       "             port  annee eff_bateaux lieu_peche code                 label  \\\n",
       "2548       FECAMP   1950           9         30   30  Côtes de Terre-Neuve   \n",
       "2549       FECAMP   1950           1         60   60             Groenland   \n",
       "2550   SAINT MALO   1950          13         30   30  Côtes de Terre-Neuve   \n",
       "2551  LA ROCHELLE   1950           2         30   30  Côtes de Terre-Neuve   \n",
       "2552     BORDEAUX   1950           7         30   30  Côtes de Terre-Neuve   \n",
       "\n",
       "     _merge  \n",
       "2548   both  \n",
       "2549   both  \n",
       "2550   both  \n",
       "2551   both  \n",
       "2552   both  "
      ]
     },
     "execution_count": 186,
     "metadata": {},
     "output_type": "execute_result"
    }
   ],
   "source": [
    "result_dfm['valeurs'] = result_dfm['valeurs'].apply(lambda x: '///'.join(x))\n",
    "result_dfm.tail()"
   ]
  },
  {
   "cell_type": "code",
   "execution_count": 187,
   "id": "bulgarian-drive",
   "metadata": {},
   "outputs": [],
   "source": [
    "db_path = 'data/peche_atlantique.sqlite'\n",
    "cn = sql.connect(db_path)"
   ]
  },
  {
   "cell_type": "code",
   "execution_count": null,
   "id": "multiple-singapore",
   "metadata": {},
   "outputs": [],
   "source": [
    "try:\n",
    "    # ATTENTION #  \n",
    "    # Ne plus exécuter après modification manuelle des valeurs dans la table #\n",
    "    ### result_dfm.to_sql('peche_morutiere', cn, if_exists='replace',\n",
    "           index_label='id')\n",
    "except Exception as e:\n",
    "    print(e)"
   ]
  },
  {
   "cell_type": "code",
   "execution_count": 189,
   "id": "foreign-zimbabwe",
   "metadata": {},
   "outputs": [],
   "source": [
    "cn.close()"
   ]
  },
  {
   "cell_type": "code",
   "execution_count": null,
   "id": "social-stress",
   "metadata": {},
   "outputs": [],
   "source": []
  }
 ],
 "metadata": {
  "kernelspec": {
   "display_name": "py37text",
   "language": "python",
   "name": "py37text"
  },
  "language_info": {
   "codemirror_mode": {
    "name": "ipython",
    "version": 3
   },
   "file_extension": ".py",
   "mimetype": "text/x-python",
   "name": "python",
   "nbconvert_exporter": "python",
   "pygments_lexer": "ipython3",
   "version": "3.7.12"
  }
 },
 "nbformat": 4,
 "nbformat_minor": 5
}
