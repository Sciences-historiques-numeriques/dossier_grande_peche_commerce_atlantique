{
 "cells": [
  {
   "cell_type": "code",
   "execution_count": null,
   "id": "stuffed-mouth",
   "metadata": {},
   "outputs": [],
   "source": []
  },
  {
   "cell_type": "markdown",
   "id": "smaller-marijuana",
   "metadata": {},
   "source": [
    "# Saint Brieuc: grande pêche et cabotage au milieu du 19e siècle\n",
    "\n",
    "Données issues de :\n",
    "\n",
    "Martine Cocaud et Jacques Cellier, _« Grande pèche et cabotage dans le quartier de Saint-Brieuc au milieu du XIXe siècle. Méthodes et outils pour l’analyse des circuits commerciaux à partir des rôles de désarmement »_, in: Des galères méditerranéennes aux rivages normands, 2011, pp. 283‑302. Cf. [cette base de données](http://jacquescellier.fr/histoire/bdhistoire/cabot/) et ces [explications](http://jacquescellier.fr/histoire/bdhistoire/cabot/cabotages.pdf).\n",
    "\n",
    "Le fichier 'data/cabotage.sqlite' contient une extraction des données de la base en ligne.\n",
    "\n",
    "\n",
    "et de :\n",
    "\n",
    "Auffray Jean-Michel, « Entre grande pêche et commerce », Annales de Bretagne et des Pays de l’Ouest. Anjou. Maine. Poitou-Charente. Touraine 117 (4), 2010, pp. 165‑194. En ligne: <https://doi.org/10.4000/abpo.1846>.\n",
    "\n",
    "\n",
    "\n",
    "\n",
    "Voir aussi:\n",
    "\n",
    "Conan Joseph, _Lettres d’un capitaine terre-neuvas_, Rennes, Presses universitaires de Rennes, 2013 (Mémoire commune). En ligne: <http://books.openedition.org/pur/43904>, consulté le 10.12.2021.\n",
    "\n",
    "\n",
    "\n"
   ]
  },
  {
   "cell_type": "code",
   "execution_count": 1,
   "id": "concerned-village",
   "metadata": {},
   "outputs": [],
   "source": [
    "import pandas as pd\n",
    "import matplotlib.pyplot as plt\n",
    "import numpy as np\n",
    "import seaborn as sns\n",
    "import sqlite3 as sql"
   ]
  },
  {
   "cell_type": "code",
   "execution_count": 26,
   "id": "hearing-bidding",
   "metadata": {},
   "outputs": [],
   "source": [
    "import sys"
   ]
  },
  {
   "cell_type": "code",
   "execution_count": 2,
   "id": "textile-charlotte",
   "metadata": {},
   "outputs": [],
   "source": [
    "file1 = 'data/auffray_2010_donnees_export.csv'"
   ]
  },
  {
   "cell_type": "code",
   "execution_count": 4,
   "id": "metallic-update",
   "metadata": {},
   "outputs": [
    {
     "data": {
      "text/html": [
       "<div>\n",
       "<style scoped>\n",
       "    .dataframe tbody tr th:only-of-type {\n",
       "        vertical-align: middle;\n",
       "    }\n",
       "\n",
       "    .dataframe tbody tr th {\n",
       "        vertical-align: top;\n",
       "    }\n",
       "\n",
       "    .dataframe thead th {\n",
       "        text-align: right;\n",
       "    }\n",
       "</style>\n",
       "<table border=\"1\" class=\"dataframe\">\n",
       "  <thead>\n",
       "    <tr style=\"text-align: right;\">\n",
       "      <th></th>\n",
       "      <th>annee</th>\n",
       "      <th>saint_malo_terneuv</th>\n",
       "      <th>saint_brieuc_binic_terneuv</th>\n",
       "      <th>saint_brieuc_terneuv</th>\n",
       "      <th>binic_terneuv</th>\n",
       "      <th>saint_brieuc_commerce</th>\n",
       "    </tr>\n",
       "  </thead>\n",
       "  <tbody>\n",
       "    <tr>\n",
       "      <th>0</th>\n",
       "      <td>1848</td>\n",
       "      <td>61.0</td>\n",
       "      <td>69.0</td>\n",
       "      <td>30.0</td>\n",
       "      <td>39.0</td>\n",
       "      <td>4.0</td>\n",
       "    </tr>\n",
       "    <tr>\n",
       "      <th>1</th>\n",
       "      <td>1849</td>\n",
       "      <td>61.0</td>\n",
       "      <td>70.0</td>\n",
       "      <td>31.0</td>\n",
       "      <td>39.0</td>\n",
       "      <td>4.0</td>\n",
       "    </tr>\n",
       "    <tr>\n",
       "      <th>2</th>\n",
       "      <td>1850</td>\n",
       "      <td>68.0</td>\n",
       "      <td>72.0</td>\n",
       "      <td>35.0</td>\n",
       "      <td>37.0</td>\n",
       "      <td>1.0</td>\n",
       "    </tr>\n",
       "    <tr>\n",
       "      <th>3</th>\n",
       "      <td>1851</td>\n",
       "      <td>72.0</td>\n",
       "      <td>71.0</td>\n",
       "      <td>32.0</td>\n",
       "      <td>39.0</td>\n",
       "      <td>3.0</td>\n",
       "    </tr>\n",
       "    <tr>\n",
       "      <th>4</th>\n",
       "      <td>1852</td>\n",
       "      <td>91.0</td>\n",
       "      <td>75.0</td>\n",
       "      <td>41.0</td>\n",
       "      <td>34.0</td>\n",
       "      <td>0.0</td>\n",
       "    </tr>\n",
       "  </tbody>\n",
       "</table>\n",
       "</div>"
      ],
      "text/plain": [
       "   annee  saint_malo_terneuv  saint_brieuc_binic_terneuv  \\\n",
       "0   1848                61.0                        69.0   \n",
       "1   1849                61.0                        70.0   \n",
       "2   1850                68.0                        72.0   \n",
       "3   1851                72.0                        71.0   \n",
       "4   1852                91.0                        75.0   \n",
       "\n",
       "   saint_brieuc_terneuv  binic_terneuv  saint_brieuc_commerce  \n",
       "0                  30.0           39.0                    4.0  \n",
       "1                  31.0           39.0                    4.0  \n",
       "2                  35.0           37.0                    1.0  \n",
       "3                  32.0           39.0                    3.0  \n",
       "4                  41.0           34.0                    0.0  "
      ]
     },
     "execution_count": 4,
     "metadata": {},
     "output_type": "execute_result"
    }
   ],
   "source": [
    "data1 = pd.read_csv(file1, sep='|')\n",
    "data1.head()"
   ]
  },
  {
   "cell_type": "code",
   "execution_count": 7,
   "id": "lasting-algorithm",
   "metadata": {},
   "outputs": [
    {
     "data": {
      "text/html": [
       "<div>\n",
       "<style scoped>\n",
       "    .dataframe tbody tr th:only-of-type {\n",
       "        vertical-align: middle;\n",
       "    }\n",
       "\n",
       "    .dataframe tbody tr th {\n",
       "        vertical-align: top;\n",
       "    }\n",
       "\n",
       "    .dataframe thead th {\n",
       "        text-align: right;\n",
       "    }\n",
       "</style>\n",
       "<table border=\"1\" class=\"dataframe\">\n",
       "  <thead>\n",
       "    <tr style=\"text-align: right;\">\n",
       "      <th></th>\n",
       "      <th>annee</th>\n",
       "      <th>saint_malo_terneuv</th>\n",
       "      <th>saint_brieuc_binic_terneuv</th>\n",
       "      <th>saint_brieuc_terneuv</th>\n",
       "      <th>binic_terneuv</th>\n",
       "      <th>saint_brieuc_commerce</th>\n",
       "    </tr>\n",
       "  </thead>\n",
       "  <tbody>\n",
       "    <tr>\n",
       "      <th>0</th>\n",
       "      <td>1848</td>\n",
       "      <td>61.0</td>\n",
       "      <td>69.0</td>\n",
       "      <td>30.0</td>\n",
       "      <td>39.0</td>\n",
       "      <td>4.0</td>\n",
       "    </tr>\n",
       "    <tr>\n",
       "      <th>1</th>\n",
       "      <td>1849</td>\n",
       "      <td>61.0</td>\n",
       "      <td>70.0</td>\n",
       "      <td>31.0</td>\n",
       "      <td>39.0</td>\n",
       "      <td>4.0</td>\n",
       "    </tr>\n",
       "    <tr>\n",
       "      <th>2</th>\n",
       "      <td>1850</td>\n",
       "      <td>68.0</td>\n",
       "      <td>72.0</td>\n",
       "      <td>35.0</td>\n",
       "      <td>37.0</td>\n",
       "      <td>1.0</td>\n",
       "    </tr>\n",
       "    <tr>\n",
       "      <th>3</th>\n",
       "      <td>1851</td>\n",
       "      <td>72.0</td>\n",
       "      <td>71.0</td>\n",
       "      <td>32.0</td>\n",
       "      <td>39.0</td>\n",
       "      <td>3.0</td>\n",
       "    </tr>\n",
       "    <tr>\n",
       "      <th>4</th>\n",
       "      <td>1852</td>\n",
       "      <td>91.0</td>\n",
       "      <td>75.0</td>\n",
       "      <td>41.0</td>\n",
       "      <td>34.0</td>\n",
       "      <td>0.0</td>\n",
       "    </tr>\n",
       "    <tr>\n",
       "      <th>5</th>\n",
       "      <td>1853</td>\n",
       "      <td>85.0</td>\n",
       "      <td>71.0</td>\n",
       "      <td>37.0</td>\n",
       "      <td>34.0</td>\n",
       "      <td>5.0</td>\n",
       "    </tr>\n",
       "    <tr>\n",
       "      <th>6</th>\n",
       "      <td>1854</td>\n",
       "      <td>66.0</td>\n",
       "      <td>58.0</td>\n",
       "      <td>29.0</td>\n",
       "      <td>29.0</td>\n",
       "      <td>10.0</td>\n",
       "    </tr>\n",
       "    <tr>\n",
       "      <th>7</th>\n",
       "      <td>1855</td>\n",
       "      <td>65.0</td>\n",
       "      <td>51.0</td>\n",
       "      <td>26.0</td>\n",
       "      <td>25.0</td>\n",
       "      <td>10.0</td>\n",
       "    </tr>\n",
       "    <tr>\n",
       "      <th>8</th>\n",
       "      <td>1856</td>\n",
       "      <td>61.0</td>\n",
       "      <td>55.0</td>\n",
       "      <td>27.0</td>\n",
       "      <td>28.0</td>\n",
       "      <td>7.0</td>\n",
       "    </tr>\n",
       "    <tr>\n",
       "      <th>9</th>\n",
       "      <td>1857</td>\n",
       "      <td>70.0</td>\n",
       "      <td>69.0</td>\n",
       "      <td>32.0</td>\n",
       "      <td>37.0</td>\n",
       "      <td>3.0</td>\n",
       "    </tr>\n",
       "    <tr>\n",
       "      <th>10</th>\n",
       "      <td>1858</td>\n",
       "      <td>68.0</td>\n",
       "      <td>71.0</td>\n",
       "      <td>31.0</td>\n",
       "      <td>40.0</td>\n",
       "      <td>2.0</td>\n",
       "    </tr>\n",
       "  </tbody>\n",
       "</table>\n",
       "</div>"
      ],
      "text/plain": [
       "    annee  saint_malo_terneuv  saint_brieuc_binic_terneuv  \\\n",
       "0    1848                61.0                        69.0   \n",
       "1    1849                61.0                        70.0   \n",
       "2    1850                68.0                        72.0   \n",
       "3    1851                72.0                        71.0   \n",
       "4    1852                91.0                        75.0   \n",
       "5    1853                85.0                        71.0   \n",
       "6    1854                66.0                        58.0   \n",
       "7    1855                65.0                        51.0   \n",
       "8    1856                61.0                        55.0   \n",
       "9    1857                70.0                        69.0   \n",
       "10   1858                68.0                        71.0   \n",
       "\n",
       "    saint_brieuc_terneuv  binic_terneuv  saint_brieuc_commerce  \n",
       "0                   30.0           39.0                    4.0  \n",
       "1                   31.0           39.0                    4.0  \n",
       "2                   35.0           37.0                    1.0  \n",
       "3                   32.0           39.0                    3.0  \n",
       "4                   41.0           34.0                    0.0  \n",
       "5                   37.0           34.0                    5.0  \n",
       "6                   29.0           29.0                   10.0  \n",
       "7                   26.0           25.0                   10.0  \n",
       "8                   27.0           28.0                    7.0  \n",
       "9                   32.0           37.0                    3.0  \n",
       "10                  31.0           40.0                    2.0  "
      ]
     },
     "execution_count": 7,
     "metadata": {},
     "output_type": "execute_result"
    }
   ],
   "source": [
    "df = data1[data1['annee'].between(1848,1858, inclusive='both')]\n",
    "df"
   ]
  },
  {
   "cell_type": "code",
   "execution_count": null,
   "id": "everyday-central",
   "metadata": {},
   "outputs": [],
   "source": []
  },
  {
   "cell_type": "code",
   "execution_count": 9,
   "id": "absent-elimination",
   "metadata": {},
   "outputs": [
    {
     "data": {
      "image/png": "[encoded data removed]",
      "text/plain": [
       "<Figure size 720x360 with 1 Axes>"
      ]
     },
     "metadata": {
      "needs_background": "light"
     },
     "output_type": "display_data"
    }
   ],
   "source": [
    "##\n",
    "# https://www.kite.com/python/answers/how-to-plot-a-linear-regression-line-on-a-scatter-plot-in-python\n",
    "\n",
    "x = np.array(df['saint_brieuc_commerce'])\n",
    "y = np.array(df['saint_brieuc_terneuv'])\n",
    "\n",
    "plt.rcParams[\"figure.figsize\"] = [10, 5]\n",
    "\n",
    "plt.plot(x, y, 'o')\n",
    "plt.title(\"Comparaison du prix du seigle et des mouvements du marché (effectifs)\")\n",
    "\n",
    "\n",
    "# m = slope, b=intercept\n",
    "m, b = np.polyfit(x, y, 1)\n",
    "\n",
    "plt.plot(x, m*x + b)\n",
    "\n",
    "for i, label in enumerate(df['annee']):\n",
    "    plt.annotate(label, (x[i], y[i]))\n",
    "plt.show()"
   ]
  },
  {
   "cell_type": "code",
   "execution_count": 10,
   "id": "increasing-investor",
   "metadata": {},
   "outputs": [
    {
     "data": {
      "text/plain": [
       "-0.7328149491028327"
      ]
     },
     "execution_count": 10,
     "metadata": {},
     "output_type": "execute_result"
    }
   ],
   "source": [
    "### Coéfficient de corrélation de Pearsons\n",
    "# https://numpy.org/doc/stable/reference/generated/numpy.corrcoef.html\n",
    "np.corrcoef([x,y])[1][0]"
   ]
  },
  {
   "cell_type": "code",
   "execution_count": 40,
   "id": "departmental-guess",
   "metadata": {},
   "outputs": [
    {
     "data": {
      "text/plain": [
       "[]"
      ]
     },
     "execution_count": 40,
     "metadata": {},
     "output_type": "execute_result"
    },
    {
     "data": {
      "image/png": "[encoded data removed]",
      "text/plain": [
       "<Figure size 1152x576 with 1 Axes>"
      ]
     },
     "metadata": {
      "needs_background": "light"
     },
     "output_type": "display_data"
    }
   ],
   "source": [
    "fig,ax = plt.subplots(figsize=(16,8))\n",
    "\n",
    "\n",
    "for name in ['saint_brieuc_commerce','saint_brieuc_terneuv','binic_terneuv']:\n",
    "    ax.plot(df[name],label=name)\n",
    "\n",
    "idx = np.asarray([i for i in range(len(df['annee']))])\n",
    "ax.set_xticks(idx)\n",
    "ax.set_xticklabels(df['annee'], rotation=45)\n",
    "\n",
    "\n",
    "ax.set_xlabel(\"Année\")\n",
    "ax.set_ylabel(\"Effectif\")\n",
    "ax.legend(loc='best')\n",
    "ax.set_ylim(ymin=0)\n",
    "\n",
    "plt.plot()"
   ]
  },
  {
   "cell_type": "code",
   "execution_count": null,
   "id": "occupational-immigration",
   "metadata": {},
   "outputs": [],
   "source": []
  }
 ],
 "metadata": {
  "kernelspec": {
   "display_name": "Py 3.7 HN sparql",
   "language": "python",
   "name": "py37_hn_sparql"
  },
  "language_info": {
   "codemirror_mode": {
    "name": "ipython",
    "version": 3
   },
   "file_extension": ".py",
   "mimetype": "text/x-python",
   "name": "python",
   "nbconvert_exporter": "python",
   "pygments_lexer": "ipython3",
   "version": "3.7.10"
  }
 },
 "nbformat": 4,
 "nbformat_minor": 5
}
