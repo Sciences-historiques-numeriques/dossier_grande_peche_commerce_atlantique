{
 "cells": [
  {
   "cell_type": "code",
   "execution_count": null,
   "id": "compatible-stream",
   "metadata": {},
   "outputs": [],
   "source": []
  },
  {
   "cell_type": "markdown",
   "id": "polyphonic-entertainment",
   "metadata": {},
   "source": [
    "# Saint Brieuc: grande pêche et cabotage au milieu du 19e siècle\n",
    "\n",
    "Données issues de :\n",
    "\n",
    "Martine Cocaud et Jacques Cellier, _« Grande pèche et cabotage dans le quartier de Saint-Brieuc au milieu du XIXe siècle. Méthodes et outils pour l’analyse des circuits commerciaux à partir des rôles de désarmement »_, in: Des galères méditerranéennes aux rivages normands, 2011, pp. 283‑302. Cf. [cette base de données](http://jacquescellier.fr/histoire/bdhistoire/cabot/) et ces [explications](http://jacquescellier.fr/histoire/bdhistoire/cabot/cabotages.pdf).\n",
    "\n",
    "Le fichier 'data/cabotage.sqlite' contient une extraction des données de la base en ligne.\n",
    "\n",
    "\n",
    "et de :\n",
    "\n",
    "Auffray Jean-Michel, « Entre grande pêche et commerce », Annales de Bretagne et des Pays de l’Ouest. Anjou. Maine. Poitou-Charente. Touraine 117 (4), 2010, pp. 165‑194. En ligne: <https://doi.org/10.4000/abpo.1846>.\n",
    "\n",
    "\n",
    "\n",
    "\n",
    "Voir aussi:\n",
    "\n",
    "Conan Joseph, _Lettres d’un capitaine terre-neuvas_, Rennes, Presses universitaires de Rennes, 2013 (Mémoire commune). En ligne: <http://books.openedition.org/pur/43904>, consulté le 10.12.2021.\n",
    "\n",
    "\n",
    "\n"
   ]
  },
  {
   "cell_type": "code",
   "execution_count": 1,
   "id": "veterinary-taste",
   "metadata": {},
   "outputs": [],
   "source": [
    "import pandas as pd\n",
    "import matplotlib.pyplot as plt\n",
    "import numpy as np\n",
    "import seaborn as sns\n",
    "import sqlite3 as sql"
   ]
  },
  {
   "cell_type": "code",
   "execution_count": 26,
   "id": "applied-algeria",
   "metadata": {
    "tags": []
   },
   "outputs": [],
   "source": [
    "import sys"
   ]
  },
  {
   "cell_type": "markdown",
   "id": "round-session",
   "metadata": {},
   "source": [
    "### Création de la fonction"
   ]
  },
  {
   "cell_type": "code",
   "execution_count": 122,
   "id": "stable-ukraine",
   "metadata": {},
   "outputs": [],
   "source": [
    "def table_chi2 (pivot_table,figsize) :\n",
    "    tx = pivot_table.loc[:,[\"Total\"]]\n",
    "    ty = pivot_table.loc[[\"Total\"],:]\n",
    "    n = pivot_table.iat[-1,-1]   # .iloc[:-1,:-1] \n",
    "\n",
    "    ### Compute the matrix multiplication between the columns.\n",
    "    # https://pandas.pydata.org/pandas-docs/stable/reference/api/pandas.DataFrame.dot.html\n",
    "    indep = tx.dot(ty) / n\n",
    "    ecarts = (pivot_table-indep)\n",
    "    # print(ecarts)\n",
    "    ecarts_ponderes = ((pivot_table-indep)**2/indep).iloc[:-1,:-1]\n",
    "    xi_n = ecarts_ponderes.sum().sum() \n",
    "    print(xi_n)\n",
    "\n",
    "    table = ecarts_ponderes/xi_n\n",
    "    fig, ax = plt.subplots(figsize=figsize)         \n",
    "    # Sample figsize in inches\n",
    "    g = sns.heatmap(ecarts_ponderes, annot=ecarts_ponderes, cmap=\"coolwarm\", linewidths=.5, ax=ax)\n",
    "    labels = ecarts_ponderes.index\n",
    "    p = g.set_yticklabels(labels, rotation=10)"
   ]
  },
  {
   "cell_type": "markdown",
   "id": "driven-maximum",
   "metadata": {},
   "source": [
    "## Guerre de Crimée (1853/1854 – 1856)\n",
    "\n",
    "*  https://fr.wikipedia.org/wiki/Guerre_de_Crimée"
   ]
  },
  {
   "cell_type": "code",
   "execution_count": 71,
   "id": "hungarian-tyler",
   "metadata": {},
   "outputs": [],
   "source": [
    "#  données tirées du graphique Auffray 2010, p. 179\n",
    "file1 = 'data/auffray_2010_donnees_export.csv'"
   ]
  },
  {
   "cell_type": "code",
   "execution_count": 72,
   "id": "stable-cloud",
   "metadata": {},
   "outputs": [
    {
     "data": {
      "text/html": [
       "<div>\n",
       "<style scoped>\n",
       "    .dataframe tbody tr th:only-of-type {\n",
       "        vertical-align: middle;\n",
       "    }\n",
       "\n",
       "    .dataframe tbody tr th {\n",
       "        vertical-align: top;\n",
       "    }\n",
       "\n",
       "    .dataframe thead th {\n",
       "        text-align: right;\n",
       "    }\n",
       "</style>\n",
       "<table border=\"1\" class=\"dataframe\">\n",
       "  <thead>\n",
       "    <tr style=\"text-align: right;\">\n",
       "      <th></th>\n",
       "      <th>annee</th>\n",
       "      <th>saint_malo_terneuv</th>\n",
       "      <th>saint_brieuc_binic_terneuv</th>\n",
       "      <th>saint_brieuc_terneuv</th>\n",
       "      <th>binic_terneuv</th>\n",
       "      <th>saint_brieuc_commerce</th>\n",
       "    </tr>\n",
       "  </thead>\n",
       "  <tbody>\n",
       "    <tr>\n",
       "      <th>0</th>\n",
       "      <td>1848</td>\n",
       "      <td>61.0</td>\n",
       "      <td>69.0</td>\n",
       "      <td>30.0</td>\n",
       "      <td>39.0</td>\n",
       "      <td>4.0</td>\n",
       "    </tr>\n",
       "    <tr>\n",
       "      <th>1</th>\n",
       "      <td>1849</td>\n",
       "      <td>61.0</td>\n",
       "      <td>70.0</td>\n",
       "      <td>31.0</td>\n",
       "      <td>39.0</td>\n",
       "      <td>4.0</td>\n",
       "    </tr>\n",
       "    <tr>\n",
       "      <th>2</th>\n",
       "      <td>1850</td>\n",
       "      <td>68.0</td>\n",
       "      <td>72.0</td>\n",
       "      <td>35.0</td>\n",
       "      <td>37.0</td>\n",
       "      <td>1.0</td>\n",
       "    </tr>\n",
       "    <tr>\n",
       "      <th>3</th>\n",
       "      <td>1851</td>\n",
       "      <td>72.0</td>\n",
       "      <td>71.0</td>\n",
       "      <td>32.0</td>\n",
       "      <td>39.0</td>\n",
       "      <td>3.0</td>\n",
       "    </tr>\n",
       "    <tr>\n",
       "      <th>4</th>\n",
       "      <td>1852</td>\n",
       "      <td>91.0</td>\n",
       "      <td>75.0</td>\n",
       "      <td>41.0</td>\n",
       "      <td>34.0</td>\n",
       "      <td>0.0</td>\n",
       "    </tr>\n",
       "  </tbody>\n",
       "</table>\n",
       "</div>"
      ],
      "text/plain": [
       "   annee  saint_malo_terneuv  saint_brieuc_binic_terneuv  \\\n",
       "0   1848                61.0                        69.0   \n",
       "1   1849                61.0                        70.0   \n",
       "2   1850                68.0                        72.0   \n",
       "3   1851                72.0                        71.0   \n",
       "4   1852                91.0                        75.0   \n",
       "\n",
       "   saint_brieuc_terneuv  binic_terneuv  saint_brieuc_commerce  \n",
       "0                  30.0           39.0                    4.0  \n",
       "1                  31.0           39.0                    4.0  \n",
       "2                  35.0           37.0                    1.0  \n",
       "3                  32.0           39.0                    3.0  \n",
       "4                  41.0           34.0                    0.0  "
      ]
     },
     "execution_count": 72,
     "metadata": {},
     "output_type": "execute_result"
    }
   ],
   "source": [
    "data1 = pd.read_csv(file1, sep='|')\n",
    "data1.head()"
   ]
  },
  {
   "cell_type": "code",
   "execution_count": 73,
   "id": "aquatic-click",
   "metadata": {},
   "outputs": [
    {
     "data": {
      "text/html": [
       "<div>\n",
       "<style scoped>\n",
       "    .dataframe tbody tr th:only-of-type {\n",
       "        vertical-align: middle;\n",
       "    }\n",
       "\n",
       "    .dataframe tbody tr th {\n",
       "        vertical-align: top;\n",
       "    }\n",
       "\n",
       "    .dataframe thead th {\n",
       "        text-align: right;\n",
       "    }\n",
       "</style>\n",
       "<table border=\"1\" class=\"dataframe\">\n",
       "  <thead>\n",
       "    <tr style=\"text-align: right;\">\n",
       "      <th></th>\n",
       "      <th>annee</th>\n",
       "      <th>saint_malo_terneuv</th>\n",
       "      <th>saint_brieuc_binic_terneuv</th>\n",
       "      <th>saint_brieuc_terneuv</th>\n",
       "      <th>binic_terneuv</th>\n",
       "      <th>saint_brieuc_commerce</th>\n",
       "    </tr>\n",
       "  </thead>\n",
       "  <tbody>\n",
       "    <tr>\n",
       "      <th>0</th>\n",
       "      <td>1848</td>\n",
       "      <td>61.0</td>\n",
       "      <td>69.0</td>\n",
       "      <td>30.0</td>\n",
       "      <td>39.0</td>\n",
       "      <td>4.0</td>\n",
       "    </tr>\n",
       "    <tr>\n",
       "      <th>1</th>\n",
       "      <td>1849</td>\n",
       "      <td>61.0</td>\n",
       "      <td>70.0</td>\n",
       "      <td>31.0</td>\n",
       "      <td>39.0</td>\n",
       "      <td>4.0</td>\n",
       "    </tr>\n",
       "    <tr>\n",
       "      <th>2</th>\n",
       "      <td>1850</td>\n",
       "      <td>68.0</td>\n",
       "      <td>72.0</td>\n",
       "      <td>35.0</td>\n",
       "      <td>37.0</td>\n",
       "      <td>1.0</td>\n",
       "    </tr>\n",
       "    <tr>\n",
       "      <th>3</th>\n",
       "      <td>1851</td>\n",
       "      <td>72.0</td>\n",
       "      <td>71.0</td>\n",
       "      <td>32.0</td>\n",
       "      <td>39.0</td>\n",
       "      <td>3.0</td>\n",
       "    </tr>\n",
       "    <tr>\n",
       "      <th>4</th>\n",
       "      <td>1852</td>\n",
       "      <td>91.0</td>\n",
       "      <td>75.0</td>\n",
       "      <td>41.0</td>\n",
       "      <td>34.0</td>\n",
       "      <td>0.0</td>\n",
       "    </tr>\n",
       "    <tr>\n",
       "      <th>5</th>\n",
       "      <td>1853</td>\n",
       "      <td>85.0</td>\n",
       "      <td>71.0</td>\n",
       "      <td>37.0</td>\n",
       "      <td>34.0</td>\n",
       "      <td>5.0</td>\n",
       "    </tr>\n",
       "    <tr>\n",
       "      <th>6</th>\n",
       "      <td>1854</td>\n",
       "      <td>66.0</td>\n",
       "      <td>58.0</td>\n",
       "      <td>29.0</td>\n",
       "      <td>29.0</td>\n",
       "      <td>10.0</td>\n",
       "    </tr>\n",
       "    <tr>\n",
       "      <th>7</th>\n",
       "      <td>1855</td>\n",
       "      <td>65.0</td>\n",
       "      <td>51.0</td>\n",
       "      <td>26.0</td>\n",
       "      <td>25.0</td>\n",
       "      <td>10.0</td>\n",
       "    </tr>\n",
       "    <tr>\n",
       "      <th>8</th>\n",
       "      <td>1856</td>\n",
       "      <td>61.0</td>\n",
       "      <td>55.0</td>\n",
       "      <td>27.0</td>\n",
       "      <td>28.0</td>\n",
       "      <td>7.0</td>\n",
       "    </tr>\n",
       "    <tr>\n",
       "      <th>9</th>\n",
       "      <td>1857</td>\n",
       "      <td>70.0</td>\n",
       "      <td>69.0</td>\n",
       "      <td>32.0</td>\n",
       "      <td>37.0</td>\n",
       "      <td>3.0</td>\n",
       "    </tr>\n",
       "    <tr>\n",
       "      <th>10</th>\n",
       "      <td>1858</td>\n",
       "      <td>68.0</td>\n",
       "      <td>71.0</td>\n",
       "      <td>31.0</td>\n",
       "      <td>40.0</td>\n",
       "      <td>2.0</td>\n",
       "    </tr>\n",
       "  </tbody>\n",
       "</table>\n",
       "</div>"
      ],
      "text/plain": [
       "    annee  saint_malo_terneuv  saint_brieuc_binic_terneuv  \\\n",
       "0    1848                61.0                        69.0   \n",
       "1    1849                61.0                        70.0   \n",
       "2    1850                68.0                        72.0   \n",
       "3    1851                72.0                        71.0   \n",
       "4    1852                91.0                        75.0   \n",
       "5    1853                85.0                        71.0   \n",
       "6    1854                66.0                        58.0   \n",
       "7    1855                65.0                        51.0   \n",
       "8    1856                61.0                        55.0   \n",
       "9    1857                70.0                        69.0   \n",
       "10   1858                68.0                        71.0   \n",
       "\n",
       "    saint_brieuc_terneuv  binic_terneuv  saint_brieuc_commerce  \n",
       "0                   30.0           39.0                    4.0  \n",
       "1                   31.0           39.0                    4.0  \n",
       "2                   35.0           37.0                    1.0  \n",
       "3                   32.0           39.0                    3.0  \n",
       "4                   41.0           34.0                    0.0  \n",
       "5                   37.0           34.0                    5.0  \n",
       "6                   29.0           29.0                   10.0  \n",
       "7                   26.0           25.0                   10.0  \n",
       "8                   27.0           28.0                    7.0  \n",
       "9                   32.0           37.0                    3.0  \n",
       "10                  31.0           40.0                    2.0  "
      ]
     },
     "execution_count": 73,
     "metadata": {},
     "output_type": "execute_result"
    }
   ],
   "source": [
    "df = data1[data1['annee'].between(1848,1858, inclusive='both')]\n",
    "df"
   ]
  },
  {
   "cell_type": "code",
   "execution_count": 75,
   "id": "medical-volume",
   "metadata": {},
   "outputs": [
    {
     "data": {
      "image/png": "[encoded data removed]",
      "text/plain": [
       "<Figure size 720x360 with 1 Axes>"
      ]
     },
     "metadata": {
      "needs_background": "light"
     },
     "output_type": "display_data"
    }
   ],
   "source": [
    "##\n",
    "# https://www.kite.com/python/answers/how-to-plot-a-linear-regression-line-on-a-scatter-plot-in-python\n",
    "\n",
    "x = np.array(df['saint_brieuc_commerce'])\n",
    "y = np.array(df['saint_brieuc_terneuv'])\n",
    "\n",
    "plt.rcParams[\"figure.figsize\"] = [10, 5]\n",
    "\n",
    "plt.plot(x, y, 'o')\n",
    "plt.title(\"Correlation des effectifs annuels de navires pour le cabotage et la grande pêche\")\n",
    "\n",
    "\n",
    "# m = slope, b=intercept\n",
    "m, b = np.polyfit(x, y, 1)\n",
    "\n",
    "plt.plot(x, m*x + b)\n",
    "\n",
    "for i, label in enumerate(df['annee']):\n",
    "    plt.annotate(label, (x[i], y[i]))\n",
    "plt.show()"
   ]
  },
  {
   "cell_type": "code",
   "execution_count": 78,
   "id": "backed-mounting",
   "metadata": {},
   "outputs": [
    {
     "data": {
      "text/plain": [
       "-0.7328149491028327"
      ]
     },
     "execution_count": 78,
     "metadata": {},
     "output_type": "execute_result"
    }
   ],
   "source": [
    "### Coéfficient de corrélation de Pearsons\n",
    "# https://numpy.org/doc/stable/reference/generated/numpy.corrcoef.html\n",
    "np.corrcoef([x,y])[1][0]"
   ]
  },
  {
   "cell_type": "code",
   "execution_count": 79,
   "id": "corporate-estimate",
   "metadata": {},
   "outputs": [
    {
     "data": {
      "text/plain": [
       "[]"
      ]
     },
     "execution_count": 79,
     "metadata": {},
     "output_type": "execute_result"
    },
    {
     "data": {
      "image/png": "[encoded data removed]",
      "text/plain": [
       "<Figure size 1152x576 with 1 Axes>"
      ]
     },
     "metadata": {
      "needs_background": "light"
     },
     "output_type": "display_data"
    }
   ],
   "source": [
    "#  données tirées du graphique Auffray 2010, p. 179\n",
    "\n",
    "fig,ax = plt.subplots(figsize=(16,8))\n",
    "\n",
    "\n",
    "for name in ['saint_brieuc_commerce','saint_brieuc_terneuv','binic_terneuv']:\n",
    "    ax.plot(df[name],label=name)\n",
    "\n",
    "idx = np.asarray([i for i in range(len(df['annee']))])\n",
    "ax.set_xticks(idx)\n",
    "ax.set_xticklabels(df['annee'], rotation=45)\n",
    "\n",
    "\n",
    "ax.set_xlabel(\"Année\")\n",
    "ax.set_ylabel(\"Effectif\")\n",
    "ax.legend(loc='best')\n",
    "ax.set_ylim(ymin=0)\n",
    "\n",
    "plt.plot()"
   ]
  },
  {
   "cell_type": "markdown",
   "id": "moving-tablet",
   "metadata": {},
   "source": [
    "## Saint Brieuc : grande pêche et cabotage"
   ]
  },
  {
   "cell_type": "code",
   "execution_count": 98,
   "id": "rapid-ontario",
   "metadata": {},
   "outputs": [],
   "source": [
    "db_path = 'data/cabotage.sqlite'\n",
    "cn = sql.connect(db_path)"
   ]
  },
  {
   "cell_type": "code",
   "execution_count": 99,
   "id": "diagnostic-mobility",
   "metadata": {},
   "outputs": [],
   "source": [
    "query = \"SELECT * FROM v_etapes_trajets\""
   ]
  },
  {
   "cell_type": "code",
   "execution_count": 100,
   "id": "subjective-stick",
   "metadata": {
    "tags": []
   },
   "outputs": [],
   "source": [
    "etapes = pd.read_sql_query(query,cn)"
   ]
  },
  {
   "cell_type": "code",
   "execution_count": 101,
   "id": "sharp-orientation",
   "metadata": {
    "tags": []
   },
   "outputs": [
    {
     "name": "stdout",
     "output_type": "stream",
     "text": [
      "1470\n"
     ]
    },
    {
     "data": {
      "text/plain": [
       "(  sSTATUT      depart reg_depart     arrivee reg_arrivee  aANNEE aACTIVITE  \\\n",
       " 0      C   ST BRIEUC     BRNORD   ST BRIEUC      BRNORD     1848        C    \n",
       " 1      C   ST BRIEUC     BRNORD   ST BRIEUC      BRNORD     1848        C    \n",
       " \n",
       "    nFRET fNATURE aNOMBATEAU    aARMEMENT  eff_etapes          frets  nNUMETAP  \\\n",
       " 0  LEST    LEST     ALCYON   VILLEFÉRON            2  LEST ,LEST ,          1   \n",
       " 1  LEST    LEST     ALCYON   VILLEFÉRON            2  LEST ,LEST ,          2   \n",
       " \n",
       "       nDEPART    nARRIVEE  \n",
       " 0  ST BRIEUC   PORTRIEUX   \n",
       " 1  PORTRIEUX   ST BRIEUC   ,\n",
       "      sSTATUT  depart reg_depart     arrivee reg_arrivee  aANNEE aACTIVITE  \\\n",
       " 1468     TN   GENES     ITALIE   ST BRIEUC      BRNORD     1858       TN    \n",
       " 1469     TN   GENES     ITALIE   ST BRIEUC      BRNORD     1858       TN    \n",
       " \n",
       "       nFRET fNATURE aNOMBATEAU aARMEMENT  eff_etapes    frets  nNUMETAP  \\\n",
       " 1468  LEST    LEST   ST LOUIS    BOULLÉ            1  LEST ,          1   \n",
       " 1469   SEL     SEL    ST PAUL    ROUXEL            1   SEL ,          1   \n",
       " \n",
       "      nDEPART    nARRIVEE  \n",
       " 1468  GENES   ST BRIEUC   \n",
       " 1469  GENES   ST BRIEUC   )"
      ]
     },
     "execution_count": 101,
     "metadata": {},
     "output_type": "execute_result"
    }
   ],
   "source": [
    "print(len(etapes))\n",
    "etapes[:2], etapes[-2:]"
   ]
  },
  {
   "cell_type": "code",
   "execution_count": 81,
   "id": "absent-profile",
   "metadata": {},
   "outputs": [],
   "source": [
    "query = \"SELECT * FROM activitesbateaux\""
   ]
  },
  {
   "cell_type": "code",
   "execution_count": 82,
   "id": "given-structure",
   "metadata": {
    "tags": []
   },
   "outputs": [],
   "source": [
    "activites = pd.read_sql_query(query,cn)"
   ]
  },
  {
   "cell_type": "code",
   "execution_count": 83,
   "id": "extraordinary-revision",
   "metadata": {
    "tags": []
   },
   "outputs": [
    {
     "name": "stdout",
     "output_type": "stream",
     "text": [
      "447\n"
     ]
    },
    {
     "data": {
      "text/plain": [
       "(   pk_activitesbateaux aNOMBATEAU  aANNEE aARMEMENT aACTIVITE\n",
       " 0                    1    ALCIDE     1848   BOULLÉ        TN \n",
       " 1                    2    ALCIDE     1849   BOULLÉ        TN ,\n",
       "      pk_activitesbateaux  aNOMBATEAU  aANNEE    aARMEMENT aACTIVITE\n",
       " 445                  446      UTILE     1857  VILLEFERON        TN \n",
       " 446                  447  VICTORINE     1849      JOUBIN         C )"
      ]
     },
     "execution_count": 83,
     "metadata": {},
     "output_type": "execute_result"
    }
   ],
   "source": [
    "print(len(activites))\n",
    "activites[:2], activites[-2:]"
   ]
  },
  {
   "cell_type": "code",
   "execution_count": 84,
   "id": "flying-alert",
   "metadata": {},
   "outputs": [],
   "source": [
    "cn.close()"
   ]
  },
  {
   "cell_type": "code",
   "execution_count": 85,
   "id": "indirect-sleep",
   "metadata": {},
   "outputs": [
    {
     "data": {
      "text/plain": [
       "Index(['sSTATUT', 'depart', 'reg_depart', 'arrivee', 'reg_arrivee', 'aANNEE',\n",
       "       'aACTIVITE', 'aNOMBATEAU', 'aARMEMENT', 'eff_etapes', 'frets',\n",
       "       'nNUMETAP', 'nDEPART', 'nARRIVEE', 'nFRET', 'trois_ans', 'deux_ans'],\n",
       "      dtype='object')"
      ]
     },
     "execution_count": 85,
     "metadata": {},
     "output_type": "execute_result"
    }
   ],
   "source": [
    "etapes.columns"
   ]
  },
  {
   "cell_type": "code",
   "execution_count": 86,
   "id": "unsigned-proof",
   "metadata": {},
   "outputs": [
    {
     "data": {
      "text/plain": [
       "Index(['pk_activitesbateaux', 'aNOMBATEAU', 'aANNEE', 'aARMEMENT',\n",
       "       'aACTIVITE'],\n",
       "      dtype='object')"
      ]
     },
     "execution_count": 86,
     "metadata": {},
     "output_type": "execute_result"
    }
   ],
   "source": [
    "activites.columns"
   ]
  },
  {
   "cell_type": "code",
   "execution_count": 88,
   "id": "greater-danish",
   "metadata": {},
   "outputs": [
    {
     "data": {
      "text/plain": [
       "[1848, 1850, 1852, 1854, 1856, 1858, 1860]"
      ]
     },
     "execution_count": 88,
     "metadata": {},
     "output_type": "execute_result"
    }
   ],
   "source": [
    "deux_ans = [x for x in range(1848,1861, 2)]\n",
    "deux_ans"
   ]
  },
  {
   "cell_type": "markdown",
   "id": "alive-virginia",
   "metadata": {},
   "source": [
    "## Évolution des voyages par catégorie"
   ]
  },
  {
   "cell_type": "code",
   "execution_count": 89,
   "id": "arctic-controversy",
   "metadata": {},
   "outputs": [
    {
     "data": {
      "text/html": [
       "<div>\n",
       "<style scoped>\n",
       "    .dataframe tbody tr th:only-of-type {\n",
       "        vertical-align: middle;\n",
       "    }\n",
       "\n",
       "    .dataframe tbody tr th {\n",
       "        vertical-align: top;\n",
       "    }\n",
       "\n",
       "    .dataframe thead th {\n",
       "        text-align: right;\n",
       "    }\n",
       "</style>\n",
       "<table border=\"1\" class=\"dataframe\">\n",
       "  <thead>\n",
       "    <tr style=\"text-align: right;\">\n",
       "      <th></th>\n",
       "      <th>pk_activitesbateaux</th>\n",
       "      <th>aNOMBATEAU</th>\n",
       "      <th>aANNEE</th>\n",
       "      <th>aARMEMENT</th>\n",
       "      <th>aACTIVITE</th>\n",
       "      <th>deux_ans</th>\n",
       "    </tr>\n",
       "  </thead>\n",
       "  <tbody>\n",
       "    <tr>\n",
       "      <th>0</th>\n",
       "      <td>1</td>\n",
       "      <td>ALCIDE</td>\n",
       "      <td>1848</td>\n",
       "      <td>BOULLÉ</td>\n",
       "      <td>TN</td>\n",
       "      <td>[1848, 1850)</td>\n",
       "    </tr>\n",
       "    <tr>\n",
       "      <th>1</th>\n",
       "      <td>2</td>\n",
       "      <td>ALCIDE</td>\n",
       "      <td>1849</td>\n",
       "      <td>BOULLÉ</td>\n",
       "      <td>TN</td>\n",
       "      <td>[1848, 1850)</td>\n",
       "    </tr>\n",
       "    <tr>\n",
       "      <th>2</th>\n",
       "      <td>3</td>\n",
       "      <td>ALCIDE</td>\n",
       "      <td>1850</td>\n",
       "      <td>BOULLÉ</td>\n",
       "      <td>TN</td>\n",
       "      <td>[1850, 1852)</td>\n",
       "    </tr>\n",
       "    <tr>\n",
       "      <th>3</th>\n",
       "      <td>4</td>\n",
       "      <td>ALCIDE</td>\n",
       "      <td>1851</td>\n",
       "      <td>BOULLÉ</td>\n",
       "      <td>TN</td>\n",
       "      <td>[1850, 1852)</td>\n",
       "    </tr>\n",
       "    <tr>\n",
       "      <th>4</th>\n",
       "      <td>5</td>\n",
       "      <td>ALCIDE</td>\n",
       "      <td>1852</td>\n",
       "      <td>BOULLÉ</td>\n",
       "      <td>TN</td>\n",
       "      <td>[1852, 1854)</td>\n",
       "    </tr>\n",
       "    <tr>\n",
       "      <th>...</th>\n",
       "      <td>...</td>\n",
       "      <td>...</td>\n",
       "      <td>...</td>\n",
       "      <td>...</td>\n",
       "      <td>...</td>\n",
       "      <td>...</td>\n",
       "    </tr>\n",
       "    <tr>\n",
       "      <th>442</th>\n",
       "      <td>443</td>\n",
       "      <td>UTILE</td>\n",
       "      <td>1854</td>\n",
       "      <td>VILLEFERON</td>\n",
       "      <td>TN</td>\n",
       "      <td>[1854, 1856)</td>\n",
       "    </tr>\n",
       "    <tr>\n",
       "      <th>443</th>\n",
       "      <td>444</td>\n",
       "      <td>UTILE</td>\n",
       "      <td>1855</td>\n",
       "      <td>VILLEFERON</td>\n",
       "      <td>TN</td>\n",
       "      <td>[1854, 1856)</td>\n",
       "    </tr>\n",
       "    <tr>\n",
       "      <th>444</th>\n",
       "      <td>445</td>\n",
       "      <td>UTILE</td>\n",
       "      <td>1856</td>\n",
       "      <td>VILLEFERON</td>\n",
       "      <td>TN</td>\n",
       "      <td>[1856, 1858)</td>\n",
       "    </tr>\n",
       "    <tr>\n",
       "      <th>445</th>\n",
       "      <td>446</td>\n",
       "      <td>UTILE</td>\n",
       "      <td>1857</td>\n",
       "      <td>VILLEFERON</td>\n",
       "      <td>TN</td>\n",
       "      <td>[1856, 1858)</td>\n",
       "    </tr>\n",
       "    <tr>\n",
       "      <th>446</th>\n",
       "      <td>447</td>\n",
       "      <td>VICTORINE</td>\n",
       "      <td>1849</td>\n",
       "      <td>JOUBIN</td>\n",
       "      <td>C</td>\n",
       "      <td>[1848, 1850)</td>\n",
       "    </tr>\n",
       "  </tbody>\n",
       "</table>\n",
       "<p>447 rows × 6 columns</p>\n",
       "</div>"
      ],
      "text/plain": [
       "     pk_activitesbateaux  aNOMBATEAU  aANNEE    aARMEMENT aACTIVITE  \\\n",
       "0                      1     ALCIDE     1848      BOULLÉ        TN    \n",
       "1                      2     ALCIDE     1849      BOULLÉ        TN    \n",
       "2                      3     ALCIDE     1850      BOULLÉ        TN    \n",
       "3                      4     ALCIDE     1851      BOULLÉ        TN    \n",
       "4                      5     ALCIDE     1852      BOULLÉ        TN    \n",
       "..                   ...         ...     ...          ...       ...   \n",
       "442                  443      UTILE     1854  VILLEFERON        TN    \n",
       "443                  444      UTILE     1855  VILLEFERON        TN    \n",
       "444                  445      UTILE     1856  VILLEFERON        TN    \n",
       "445                  446      UTILE     1857  VILLEFERON        TN    \n",
       "446                  447  VICTORINE     1849      JOUBIN         C    \n",
       "\n",
       "         deux_ans  \n",
       "0    [1848, 1850)  \n",
       "1    [1848, 1850)  \n",
       "2    [1850, 1852)  \n",
       "3    [1850, 1852)  \n",
       "4    [1852, 1854)  \n",
       "..            ...  \n",
       "442  [1854, 1856)  \n",
       "443  [1854, 1856)  \n",
       "444  [1856, 1858)  \n",
       "445  [1856, 1858)  \n",
       "446  [1848, 1850)  \n",
       "\n",
       "[447 rows x 6 columns]"
      ]
     },
     "execution_count": 89,
     "metadata": {},
     "output_type": "execute_result"
    }
   ],
   "source": [
    "## fonction pd.cut : https://pandas.pydata.org/pandas-docs/stable/reference/api/pandas.cut.html\n",
    "\n",
    "\n",
    "activites['deux_ans'] = pd.cut(activites['aANNEE'], deux_ans, right=False)\n",
    "### Transformer le code ajouté pour qu'il soit plus lisible\n",
    "# etapes['deux_ans'] = etapes['deux_ans'].apply(lambda row : str(int(row.left))+'-'+str(int(row.right)))\n",
    "\n",
    "## Inspection\n",
    "activites"
   ]
  },
  {
   "cell_type": "code",
   "execution_count": 92,
   "id": "convinced-sydney",
   "metadata": {},
   "outputs": [
    {
     "data": {
      "image/png": "[encoded data removed]",
      "text/plain": [
       "<Figure size 1152x360 with 1 Axes>"
      ]
     },
     "metadata": {
      "needs_background": "light"
     },
     "output_type": "display_data"
    }
   ],
   "source": [
    "X = 'aACTIVITE'\n",
    "Y = 'deux_ans'\n",
    "\n",
    "g = activites[[Y,X]].pivot_table(index=Y,columns=X,aggfunc=len) \\\n",
    "        .fillna(0).astype(int).sort_values(by=Y, ascending=True) \\\n",
    "        .plot( kind='bar', stacked=True,  width=0.2,  figsize=(16,5),  title = \"Voyages par période bisannuelle\")\n",
    "plt.xticks(rotation=45)\n",
    "plt.show()"
   ]
  },
  {
   "cell_type": "markdown",
   "id": "italic-conviction",
   "metadata": {},
   "source": [
    "## Effectif étapes par période bisannuelle"
   ]
  },
  {
   "cell_type": "code",
   "execution_count": 120,
   "id": "designed-insulin",
   "metadata": {},
   "outputs": [
    {
     "data": {
      "text/html": [
       "<div>\n",
       "<style scoped>\n",
       "    .dataframe tbody tr th:only-of-type {\n",
       "        vertical-align: middle;\n",
       "    }\n",
       "\n",
       "    .dataframe tbody tr th {\n",
       "        vertical-align: top;\n",
       "    }\n",
       "\n",
       "    .dataframe thead th {\n",
       "        text-align: right;\n",
       "    }\n",
       "</style>\n",
       "<table border=\"1\" class=\"dataframe\">\n",
       "  <thead>\n",
       "    <tr style=\"text-align: right;\">\n",
       "      <th></th>\n",
       "      <th>sSTATUT</th>\n",
       "      <th>depart</th>\n",
       "      <th>reg_depart</th>\n",
       "      <th>arrivee</th>\n",
       "      <th>reg_arrivee</th>\n",
       "      <th>aANNEE</th>\n",
       "      <th>aACTIVITE</th>\n",
       "      <th>nFRET</th>\n",
       "      <th>fNATURE</th>\n",
       "      <th>aNOMBATEAU</th>\n",
       "      <th>aARMEMENT</th>\n",
       "      <th>eff_etapes</th>\n",
       "      <th>frets</th>\n",
       "      <th>nNUMETAP</th>\n",
       "      <th>nDEPART</th>\n",
       "      <th>nARRIVEE</th>\n",
       "      <th>deux_ans</th>\n",
       "      <th>deux_ans_str</th>\n",
       "    </tr>\n",
       "  </thead>\n",
       "  <tbody>\n",
       "    <tr>\n",
       "      <th>0</th>\n",
       "      <td>C</td>\n",
       "      <td>ST BRIEUC</td>\n",
       "      <td>BRNORD</td>\n",
       "      <td>ST BRIEUC</td>\n",
       "      <td>BRNORD</td>\n",
       "      <td>1848</td>\n",
       "      <td>C</td>\n",
       "      <td>LEST</td>\n",
       "      <td>LEST</td>\n",
       "      <td>ALCYON</td>\n",
       "      <td>VILLEFÉRON</td>\n",
       "      <td>2</td>\n",
       "      <td>LEST ,LEST ,</td>\n",
       "      <td>1</td>\n",
       "      <td>ST BRIEUC</td>\n",
       "      <td>PORTRIEUX</td>\n",
       "      <td>[1848, 1850)</td>\n",
       "      <td>1848-1850</td>\n",
       "    </tr>\n",
       "    <tr>\n",
       "      <th>1</th>\n",
       "      <td>C</td>\n",
       "      <td>ST BRIEUC</td>\n",
       "      <td>BRNORD</td>\n",
       "      <td>ST BRIEUC</td>\n",
       "      <td>BRNORD</td>\n",
       "      <td>1848</td>\n",
       "      <td>C</td>\n",
       "      <td>LEST</td>\n",
       "      <td>LEST</td>\n",
       "      <td>ALCYON</td>\n",
       "      <td>VILLEFÉRON</td>\n",
       "      <td>2</td>\n",
       "      <td>LEST ,LEST ,</td>\n",
       "      <td>2</td>\n",
       "      <td>PORTRIEUX</td>\n",
       "      <td>ST BRIEUC</td>\n",
       "      <td>[1848, 1850)</td>\n",
       "      <td>1848-1850</td>\n",
       "    </tr>\n",
       "    <tr>\n",
       "      <th>2</th>\n",
       "      <td>C</td>\n",
       "      <td>MARSEILLE</td>\n",
       "      <td>FRMED</td>\n",
       "      <td>ST BRIEUC</td>\n",
       "      <td>BRNORD</td>\n",
       "      <td>1848</td>\n",
       "      <td>C</td>\n",
       "      <td>DM</td>\n",
       "      <td>DM</td>\n",
       "      <td>ANGÉLIQUE</td>\n",
       "      <td>SÉBERT</td>\n",
       "      <td>12</td>\n",
       "      <td>DM ,LEST ,SEL ,GRANIT ,DM ,DM ,DM ,LEST ,FROME...</td>\n",
       "      <td>1</td>\n",
       "      <td>MARSEILLE</td>\n",
       "      <td>ST BRIEUC</td>\n",
       "      <td>[1848, 1850)</td>\n",
       "      <td>1848-1850</td>\n",
       "    </tr>\n",
       "    <tr>\n",
       "      <th>3</th>\n",
       "      <td>C</td>\n",
       "      <td>MARSEILLE</td>\n",
       "      <td>FRMED</td>\n",
       "      <td>ST BRIEUC</td>\n",
       "      <td>BRNORD</td>\n",
       "      <td>1848</td>\n",
       "      <td>C</td>\n",
       "      <td>DM</td>\n",
       "      <td>DM</td>\n",
       "      <td>ANGÉLIQUE</td>\n",
       "      <td>SÉBERT</td>\n",
       "      <td>12</td>\n",
       "      <td>DM ,LEST ,SEL ,GRANIT ,DM ,DM ,DM ,LEST ,FROME...</td>\n",
       "      <td>2</td>\n",
       "      <td>ST BRIEUC</td>\n",
       "      <td>RE</td>\n",
       "      <td>[1848, 1850)</td>\n",
       "      <td>1848-1850</td>\n",
       "    </tr>\n",
       "    <tr>\n",
       "      <th>4</th>\n",
       "      <td>C</td>\n",
       "      <td>MARSEILLE</td>\n",
       "      <td>FRMED</td>\n",
       "      <td>ST BRIEUC</td>\n",
       "      <td>BRNORD</td>\n",
       "      <td>1848</td>\n",
       "      <td>C</td>\n",
       "      <td>DM</td>\n",
       "      <td>DM</td>\n",
       "      <td>ANGÉLIQUE</td>\n",
       "      <td>SÉBERT</td>\n",
       "      <td>12</td>\n",
       "      <td>DM ,LEST ,SEL ,GRANIT ,DM ,DM ,DM ,LEST ,FROME...</td>\n",
       "      <td>3</td>\n",
       "      <td>RE</td>\n",
       "      <td>ST BRIEUC</td>\n",
       "      <td>[1848, 1850)</td>\n",
       "      <td>1848-1850</td>\n",
       "    </tr>\n",
       "    <tr>\n",
       "      <th>...</th>\n",
       "      <td>...</td>\n",
       "      <td>...</td>\n",
       "      <td>...</td>\n",
       "      <td>...</td>\n",
       "      <td>...</td>\n",
       "      <td>...</td>\n",
       "      <td>...</td>\n",
       "      <td>...</td>\n",
       "      <td>...</td>\n",
       "      <td>...</td>\n",
       "      <td>...</td>\n",
       "      <td>...</td>\n",
       "      <td>...</td>\n",
       "      <td>...</td>\n",
       "      <td>...</td>\n",
       "      <td>...</td>\n",
       "      <td>...</td>\n",
       "      <td>...</td>\n",
       "    </tr>\n",
       "    <tr>\n",
       "      <th>1465</th>\n",
       "      <td>MIX</td>\n",
       "      <td>ST BRIEUC</td>\n",
       "      <td>BRNORD</td>\n",
       "      <td>ST BRIEUC</td>\n",
       "      <td>BRNORD</td>\n",
       "      <td>1858</td>\n",
       "      <td>TN</td>\n",
       "      <td>HUILE MORUE</td>\n",
       "      <td>DAL</td>\n",
       "      <td>ST BRIEUC</td>\n",
       "      <td>DE RAYS</td>\n",
       "      <td>3</td>\n",
       "      <td>HUILE MORUE ,LEST ,SEL ,</td>\n",
       "      <td>1</td>\n",
       "      <td>ST BRIEUC</td>\n",
       "      <td>LA ROCHELLE</td>\n",
       "      <td>[1858, 1860)</td>\n",
       "      <td>1858-1860</td>\n",
       "    </tr>\n",
       "    <tr>\n",
       "      <th>1466</th>\n",
       "      <td>MIX</td>\n",
       "      <td>ST BRIEUC</td>\n",
       "      <td>BRNORD</td>\n",
       "      <td>ST BRIEUC</td>\n",
       "      <td>BRNORD</td>\n",
       "      <td>1858</td>\n",
       "      <td>TN</td>\n",
       "      <td>HUILE MORUE</td>\n",
       "      <td>DAL</td>\n",
       "      <td>ST BRIEUC</td>\n",
       "      <td>DE RAYS</td>\n",
       "      <td>3</td>\n",
       "      <td>HUILE MORUE ,LEST ,SEL ,</td>\n",
       "      <td>2</td>\n",
       "      <td>LA ROCHELLE</td>\n",
       "      <td>RE</td>\n",
       "      <td>[1858, 1860)</td>\n",
       "      <td>1858-1860</td>\n",
       "    </tr>\n",
       "    <tr>\n",
       "      <th>1467</th>\n",
       "      <td>MIX</td>\n",
       "      <td>ST BRIEUC</td>\n",
       "      <td>BRNORD</td>\n",
       "      <td>ST BRIEUC</td>\n",
       "      <td>BRNORD</td>\n",
       "      <td>1858</td>\n",
       "      <td>TN</td>\n",
       "      <td>HUILE MORUE</td>\n",
       "      <td>DAL</td>\n",
       "      <td>ST BRIEUC</td>\n",
       "      <td>DE RAYS</td>\n",
       "      <td>3</td>\n",
       "      <td>HUILE MORUE ,LEST ,SEL ,</td>\n",
       "      <td>3</td>\n",
       "      <td>RE</td>\n",
       "      <td>ST BRIEUC</td>\n",
       "      <td>[1858, 1860)</td>\n",
       "      <td>1858-1860</td>\n",
       "    </tr>\n",
       "    <tr>\n",
       "      <th>1468</th>\n",
       "      <td>TN</td>\n",
       "      <td>GENES</td>\n",
       "      <td>ITALIE</td>\n",
       "      <td>ST BRIEUC</td>\n",
       "      <td>BRNORD</td>\n",
       "      <td>1858</td>\n",
       "      <td>TN</td>\n",
       "      <td>LEST</td>\n",
       "      <td>LEST</td>\n",
       "      <td>ST LOUIS</td>\n",
       "      <td>BOULLÉ</td>\n",
       "      <td>1</td>\n",
       "      <td>LEST ,</td>\n",
       "      <td>1</td>\n",
       "      <td>GENES</td>\n",
       "      <td>ST BRIEUC</td>\n",
       "      <td>[1858, 1860)</td>\n",
       "      <td>1858-1860</td>\n",
       "    </tr>\n",
       "    <tr>\n",
       "      <th>1469</th>\n",
       "      <td>TN</td>\n",
       "      <td>GENES</td>\n",
       "      <td>ITALIE</td>\n",
       "      <td>ST BRIEUC</td>\n",
       "      <td>BRNORD</td>\n",
       "      <td>1858</td>\n",
       "      <td>TN</td>\n",
       "      <td>SEL</td>\n",
       "      <td>SEL</td>\n",
       "      <td>ST PAUL</td>\n",
       "      <td>ROUXEL</td>\n",
       "      <td>1</td>\n",
       "      <td>SEL ,</td>\n",
       "      <td>1</td>\n",
       "      <td>GENES</td>\n",
       "      <td>ST BRIEUC</td>\n",
       "      <td>[1858, 1860)</td>\n",
       "      <td>1858-1860</td>\n",
       "    </tr>\n",
       "  </tbody>\n",
       "</table>\n",
       "<p>1470 rows × 18 columns</p>\n",
       "</div>"
      ],
      "text/plain": [
       "     sSTATUT      depart reg_depart     arrivee reg_arrivee  aANNEE aACTIVITE  \\\n",
       "0         C   ST BRIEUC     BRNORD   ST BRIEUC      BRNORD     1848        C    \n",
       "1         C   ST BRIEUC     BRNORD   ST BRIEUC      BRNORD     1848        C    \n",
       "2         C   MARSEILLE      FRMED   ST BRIEUC      BRNORD     1848        C    \n",
       "3         C   MARSEILLE      FRMED   ST BRIEUC      BRNORD     1848        C    \n",
       "4         C   MARSEILLE      FRMED   ST BRIEUC      BRNORD     1848        C    \n",
       "...      ...         ...        ...         ...         ...     ...       ...   \n",
       "1465    MIX   ST BRIEUC     BRNORD   ST BRIEUC      BRNORD     1858       TN    \n",
       "1466    MIX   ST BRIEUC     BRNORD   ST BRIEUC      BRNORD     1858       TN    \n",
       "1467    MIX   ST BRIEUC     BRNORD   ST BRIEUC      BRNORD     1858       TN    \n",
       "1468     TN       GENES     ITALIE   ST BRIEUC      BRNORD     1858       TN    \n",
       "1469     TN       GENES     ITALIE   ST BRIEUC      BRNORD     1858       TN    \n",
       "\n",
       "             nFRET fNATURE  aNOMBATEAU    aARMEMENT  eff_etapes  \\\n",
       "0            LEST    LEST      ALCYON   VILLEFÉRON            2   \n",
       "1            LEST    LEST      ALCYON   VILLEFÉRON            2   \n",
       "2              DM      DM   ANGÉLIQUE       SÉBERT           12   \n",
       "3              DM      DM   ANGÉLIQUE       SÉBERT           12   \n",
       "4              DM      DM   ANGÉLIQUE       SÉBERT           12   \n",
       "...            ...     ...         ...          ...         ...   \n",
       "1465  HUILE MORUE     DAL   ST BRIEUC      DE RAYS            3   \n",
       "1466  HUILE MORUE     DAL   ST BRIEUC      DE RAYS            3   \n",
       "1467  HUILE MORUE     DAL   ST BRIEUC      DE RAYS            3   \n",
       "1468         LEST    LEST    ST LOUIS       BOULLÉ            1   \n",
       "1469          SEL     SEL     ST PAUL       ROUXEL            1   \n",
       "\n",
       "                                                  frets  nNUMETAP  \\\n",
       "0                                         LEST ,LEST ,          1   \n",
       "1                                         LEST ,LEST ,          2   \n",
       "2     DM ,LEST ,SEL ,GRANIT ,DM ,DM ,DM ,LEST ,FROME...         1   \n",
       "3     DM ,LEST ,SEL ,GRANIT ,DM ,DM ,DM ,LEST ,FROME...         2   \n",
       "4     DM ,LEST ,SEL ,GRANIT ,DM ,DM ,DM ,LEST ,FROME...         3   \n",
       "...                                                 ...       ...   \n",
       "1465                          HUILE MORUE ,LEST ,SEL ,          1   \n",
       "1466                          HUILE MORUE ,LEST ,SEL ,          2   \n",
       "1467                          HUILE MORUE ,LEST ,SEL ,          3   \n",
       "1468                                            LEST ,          1   \n",
       "1469                                             SEL ,          1   \n",
       "\n",
       "           nDEPART      nARRIVEE      deux_ans deux_ans_str  \n",
       "0       ST BRIEUC     PORTRIEUX   [1848, 1850)    1848-1850  \n",
       "1       PORTRIEUX     ST BRIEUC   [1848, 1850)    1848-1850  \n",
       "2       MARSEILLE     ST BRIEUC   [1848, 1850)    1848-1850  \n",
       "3       ST BRIEUC            RE   [1848, 1850)    1848-1850  \n",
       "4              RE     ST BRIEUC   [1848, 1850)    1848-1850  \n",
       "...            ...           ...           ...          ...  \n",
       "1465    ST BRIEUC   LA ROCHELLE   [1858, 1860)    1858-1860  \n",
       "1466  LA ROCHELLE            RE   [1858, 1860)    1858-1860  \n",
       "1467           RE     ST BRIEUC   [1858, 1860)    1858-1860  \n",
       "1468        GENES     ST BRIEUC   [1858, 1860)    1858-1860  \n",
       "1469        GENES     ST BRIEUC   [1858, 1860)    1858-1860  \n",
       "\n",
       "[1470 rows x 18 columns]"
      ]
     },
     "execution_count": 120,
     "metadata": {},
     "output_type": "execute_result"
    }
   ],
   "source": [
    "## fonction pd.cut : https://pandas.pydata.org/pandas-docs/stable/reference/api/pandas.cut.html\n",
    "\n",
    "\n",
    "etapes['deux_ans'] = pd.cut(etapes['aANNEE'], deux_ans, right=False)\n",
    "### Transformer le code ajouté pour qu'il soit plus lisible\n",
    "etapes['deux_ans_str'] = etapes['deux_ans'].apply(lambda row : str(int(row.left))+'-'+str(int(row.right)))\n",
    "\n",
    "## Inspection\n",
    "etapes"
   ]
  },
  {
   "cell_type": "code",
   "execution_count": 128,
   "id": "unnecessary-paste",
   "metadata": {},
   "outputs": [
    {
     "data": {
      "image/png": "[encoded data removed]",
      "text/plain": [
       "<Figure size 1152x360 with 1 Axes>"
      ]
     },
     "metadata": {
      "needs_background": "light"
     },
     "output_type": "display_data"
    }
   ],
   "source": [
    "X = 'aACTIVITE'\n",
    "Y = 'deux_ans'\n",
    "\n",
    "g = etapes[[Y,X]].pivot_table(index=Y,columns=X,aggfunc=len) \\\n",
    "        .fillna(0).astype(int).sort_values(by=Y, ascending=True) \\\n",
    "        .plot( kind='bar', stacked=True,  width=0.2,  figsize=(16,5),  title = \"Effectis des etapes\")\n",
    "plt.xticks(rotation=45)\n",
    "plt.show()"
   ]
  },
  {
   "cell_type": "code",
   "execution_count": 129,
   "id": "finished-sculpture",
   "metadata": {},
   "outputs": [
    {
     "data": {
      "text/html": [
       "<div>\n",
       "<style scoped>\n",
       "    .dataframe tbody tr th:only-of-type {\n",
       "        vertical-align: middle;\n",
       "    }\n",
       "\n",
       "    .dataframe tbody tr th {\n",
       "        vertical-align: top;\n",
       "    }\n",
       "\n",
       "    .dataframe thead th {\n",
       "        text-align: right;\n",
       "    }\n",
       "</style>\n",
       "<table border=\"1\" class=\"dataframe\">\n",
       "  <thead>\n",
       "    <tr style=\"text-align: right;\">\n",
       "      <th>aACTIVITE</th>\n",
       "      <th>C</th>\n",
       "      <th>TN</th>\n",
       "      <th></th>\n",
       "    </tr>\n",
       "    <tr>\n",
       "      <th>deux_ans</th>\n",
       "      <th></th>\n",
       "      <th></th>\n",
       "      <th></th>\n",
       "    </tr>\n",
       "  </thead>\n",
       "  <tbody>\n",
       "    <tr>\n",
       "      <th>[1848, 1850)</th>\n",
       "      <td>201</td>\n",
       "      <td>77</td>\n",
       "      <td>4</td>\n",
       "    </tr>\n",
       "    <tr>\n",
       "      <th>[1850, 1852)</th>\n",
       "      <td>162</td>\n",
       "      <td>139</td>\n",
       "      <td>0</td>\n",
       "    </tr>\n",
       "    <tr>\n",
       "      <th>[1852, 1854)</th>\n",
       "      <td>193</td>\n",
       "      <td>242</td>\n",
       "      <td>0</td>\n",
       "    </tr>\n",
       "    <tr>\n",
       "      <th>[1854, 1856)</th>\n",
       "      <td>156</td>\n",
       "      <td>130</td>\n",
       "      <td>0</td>\n",
       "    </tr>\n",
       "    <tr>\n",
       "      <th>[1856, 1858)</th>\n",
       "      <td>30</td>\n",
       "      <td>110</td>\n",
       "      <td>4</td>\n",
       "    </tr>\n",
       "    <tr>\n",
       "      <th>[1858, 1860)</th>\n",
       "      <td>7</td>\n",
       "      <td>15</td>\n",
       "      <td>0</td>\n",
       "    </tr>\n",
       "  </tbody>\n",
       "</table>\n",
       "</div>"
      ],
      "text/plain": [
       "aACTIVITE      C   TN    \n",
       "deux_ans                 \n",
       "[1848, 1850)  201   77  4\n",
       "[1850, 1852)  162  139  0\n",
       "[1852, 1854)  193  242  0\n",
       "[1854, 1856)  156  130  0\n",
       "[1856, 1858)   30  110  4\n",
       "[1858, 1860)    7   15  0"
      ]
     },
     "execution_count": 129,
     "metadata": {},
     "output_type": "execute_result"
    }
   ],
   "source": [
    "etapes[[Y,X]].pivot_table(index=Y,columns=X,aggfunc=len) \\\n",
    "        .fillna(0).astype(int).sort_values(by=Y, ascending=True)"
   ]
  },
  {
   "cell_type": "markdown",
   "id": "accepting-verification",
   "metadata": {},
   "source": [
    "## Effectifs de la typologie des frets par période bisannuelle"
   ]
  },
  {
   "cell_type": "code",
   "execution_count": 130,
   "id": "immune-shepherd",
   "metadata": {},
   "outputs": [
    {
     "data": {
      "image/png": "[encoded data removed]",
      "text/plain": [
       "<Figure size 1152x576 with 1 Axes>"
      ]
     },
     "metadata": {
      "needs_background": "light"
     },
     "output_type": "display_data"
    }
   ],
   "source": [
    "X = 'fNATURE'\n",
    "Y = 'deux_ans'\n",
    "\n",
    "g = etapes[[Y,X]].pivot_table(index=Y,columns=X,aggfunc=len) \\\n",
    "        .fillna(0).astype(int).sort_values(by=Y, ascending=False) \\\n",
    "        .plot( kind='barh', stacked=True,  width=0.4,  figsize=(16,8),  title = \"Effectifs des marchandise par étape et période\")\n",
    "plt.xticks(rotation=45)\n",
    "plt.show()"
   ]
  },
  {
   "cell_type": "code",
   "execution_count": 131,
   "id": "chicken-cutting",
   "metadata": {
    "tags": []
   },
   "outputs": [
    {
     "data": {
      "text/html": [
       "<div>\n",
       "<style scoped>\n",
       "    .dataframe tbody tr th:only-of-type {\n",
       "        vertical-align: middle;\n",
       "    }\n",
       "\n",
       "    .dataframe tbody tr th {\n",
       "        vertical-align: top;\n",
       "    }\n",
       "\n",
       "    .dataframe thead th {\n",
       "        text-align: right;\n",
       "    }\n",
       "</style>\n",
       "<table border=\"1\" class=\"dataframe\">\n",
       "  <thead>\n",
       "    <tr style=\"text-align: right;\">\n",
       "      <th>fNATURE</th>\n",
       "      <th>BOISSON</th>\n",
       "      <th>CEREALE</th>\n",
       "      <th>CHARBON</th>\n",
       "      <th>DAL</th>\n",
       "      <th>DM</th>\n",
       "      <th>LEST</th>\n",
       "      <th>MAT</th>\n",
       "      <th>SEL</th>\n",
       "      <th>Total</th>\n",
       "    </tr>\n",
       "    <tr>\n",
       "      <th>deux_ans_str</th>\n",
       "      <th></th>\n",
       "      <th></th>\n",
       "      <th></th>\n",
       "      <th></th>\n",
       "      <th></th>\n",
       "      <th></th>\n",
       "      <th></th>\n",
       "      <th></th>\n",
       "      <th></th>\n",
       "    </tr>\n",
       "  </thead>\n",
       "  <tbody>\n",
       "    <tr>\n",
       "      <th>1848-1850</th>\n",
       "      <td>9</td>\n",
       "      <td>5</td>\n",
       "      <td>8</td>\n",
       "      <td>27</td>\n",
       "      <td>40</td>\n",
       "      <td>152</td>\n",
       "      <td>14</td>\n",
       "      <td>27</td>\n",
       "      <td>282</td>\n",
       "    </tr>\n",
       "    <tr>\n",
       "      <th>1850-1852</th>\n",
       "      <td>3</td>\n",
       "      <td>62</td>\n",
       "      <td>9</td>\n",
       "      <td>30</td>\n",
       "      <td>40</td>\n",
       "      <td>124</td>\n",
       "      <td>5</td>\n",
       "      <td>28</td>\n",
       "      <td>301</td>\n",
       "    </tr>\n",
       "    <tr>\n",
       "      <th>1852-1854</th>\n",
       "      <td>3</td>\n",
       "      <td>100</td>\n",
       "      <td>0</td>\n",
       "      <td>2</td>\n",
       "      <td>55</td>\n",
       "      <td>220</td>\n",
       "      <td>11</td>\n",
       "      <td>29</td>\n",
       "      <td>420</td>\n",
       "    </tr>\n",
       "    <tr>\n",
       "      <th>1854-1856</th>\n",
       "      <td>0</td>\n",
       "      <td>26</td>\n",
       "      <td>0</td>\n",
       "      <td>4</td>\n",
       "      <td>68</td>\n",
       "      <td>157</td>\n",
       "      <td>0</td>\n",
       "      <td>20</td>\n",
       "      <td>275</td>\n",
       "    </tr>\n",
       "    <tr>\n",
       "      <th>1856-1858</th>\n",
       "      <td>0</td>\n",
       "      <td>8</td>\n",
       "      <td>7</td>\n",
       "      <td>10</td>\n",
       "      <td>32</td>\n",
       "      <td>57</td>\n",
       "      <td>1</td>\n",
       "      <td>18</td>\n",
       "      <td>133</td>\n",
       "    </tr>\n",
       "    <tr>\n",
       "      <th>1858-1860</th>\n",
       "      <td>0</td>\n",
       "      <td>0</td>\n",
       "      <td>0</td>\n",
       "      <td>3</td>\n",
       "      <td>4</td>\n",
       "      <td>4</td>\n",
       "      <td>7</td>\n",
       "      <td>4</td>\n",
       "      <td>22</td>\n",
       "    </tr>\n",
       "    <tr>\n",
       "      <th>Total</th>\n",
       "      <td>15</td>\n",
       "      <td>201</td>\n",
       "      <td>24</td>\n",
       "      <td>76</td>\n",
       "      <td>239</td>\n",
       "      <td>714</td>\n",
       "      <td>38</td>\n",
       "      <td>126</td>\n",
       "      <td>1433</td>\n",
       "    </tr>\n",
       "  </tbody>\n",
       "</table>\n",
       "</div>"
      ],
      "text/plain": [
       "fNATURE       BOISSON   CEREALE   CHARBON   DAL   DM   LEST   MAT   SEL   \\\n",
       "deux_ans_str                                                               \n",
       "1848-1850            9         5         8    27   40    152    14    27   \n",
       "1850-1852            3        62         9    30   40    124     5    28   \n",
       "1852-1854            3       100         0     2   55    220    11    29   \n",
       "1854-1856            0        26         0     4   68    157     0    20   \n",
       "1856-1858            0         8         7    10   32     57     1    18   \n",
       "1858-1860            0         0         0     3    4      4     7     4   \n",
       "Total               15       201        24    76  239    714    38   126   \n",
       "\n",
       "fNATURE       Total  \n",
       "deux_ans_str         \n",
       "1848-1850       282  \n",
       "1850-1852       301  \n",
       "1852-1854       420  \n",
       "1854-1856       275  \n",
       "1856-1858       133  \n",
       "1858-1860        22  \n",
       "Total          1433  "
      ]
     },
     "execution_count": 131,
     "metadata": {},
     "output_type": "execute_result"
    }
   ],
   "source": [
    "X = 'fNATURE'\n",
    "Y = 'deux_ans_str'\n",
    "\n",
    "pt = etapes[[Y,X]].pivot_table(index=Y,columns=X,aggfunc=len, \\\n",
    "        margins=True,margins_name=\"Total\") \\\n",
    "        .fillna(0).astype(int).sort_values(by=Y, ascending=True)\n",
    "pt"
   ]
  },
  {
   "cell_type": "code",
   "execution_count": 123,
   "id": "registered-pricing",
   "metadata": {},
   "outputs": [
    {
     "name": "stdout",
     "output_type": "stream",
     "text": [
      "309.4624351551526\n"
     ]
    },
    {
     "data": {
      "image/png": "[encoded data removed]",
      "text/plain": [
       "<Figure size 864x432 with 2 Axes>"
      ]
     },
     "metadata": {
      "needs_background": "light"
     },
     "output_type": "display_data"
    }
   ],
   "source": [
    "table_chi2(pt,(12,6))"
   ]
  },
  {
   "cell_type": "code",
   "execution_count": 133,
   "id": "several-ladder",
   "metadata": {},
   "outputs": [
    {
     "data": {
      "image/png": "[encoded data removed]",
      "text/plain": [
       "<Figure size 1152x576 with 1 Axes>"
      ]
     },
     "metadata": {
      "needs_background": "light"
     },
     "output_type": "display_data"
    }
   ],
   "source": [
    "\n",
    "\n",
    "X = 'fNATURE'\n",
    "Y = 'deux_ans'\n",
    "\n",
    "g = etapes[[Y,X]].pivot_table(index=Y,columns=X,aggfunc=len) \\\n",
    "        .fillna(0).astype(int).sort_values(by=Y, ascending=False) \\\n",
    "        .plot( kind='barh', stacked=True,  width=0.4,  figsize=(16,8),  title = \"Effectifs des marchandise par étape et période\")\n",
    "plt.xticks(rotation=45)\n",
    "plt.show()"
   ]
  },
  {
   "cell_type": "code",
   "execution_count": null,
   "id": "binding-rover",
   "metadata": {
    "tags": []
   },
   "outputs": [],
   "source": []
  },
  {
   "cell_type": "markdown",
   "id": "supposed-hearing",
   "metadata": {},
   "source": [
    "## Effectifs des régions de départ par période bisannuelle"
   ]
  },
  {
   "cell_type": "code",
   "execution_count": 134,
   "id": "documented-private",
   "metadata": {},
   "outputs": [
    {
     "data": {
      "image/png": "[encoded data removed]",
      "text/plain": [
       "<Figure size 1152x576 with 1 Axes>"
      ]
     },
     "metadata": {
      "needs_background": "light"
     },
     "output_type": "display_data"
    }
   ],
   "source": [
    "X = 'reg_depart'\n",
    "Y = 'deux_ans'\n",
    "\n",
    "g = etapes[[Y,X]].pivot_table(index=Y,columns=X,aggfunc=len) \\\n",
    "        .fillna(0).astype(int).sort_values(by=Y, ascending=False) \\\n",
    "        .plot( kind='barh', stacked=True,  width=0.4,  figsize=(16,8),  title = \"Effectifs des régions par étape et période\")\n",
    "plt.xticks(rotation=45)\n",
    "plt.show()"
   ]
  },
  {
   "cell_type": "code",
   "execution_count": 135,
   "id": "comprehensive-discrimination",
   "metadata": {
    "tags": []
   },
   "outputs": [
    {
     "data": {
      "text/html": [
       "<div>\n",
       "<style scoped>\n",
       "    .dataframe tbody tr th:only-of-type {\n",
       "        vertical-align: middle;\n",
       "    }\n",
       "\n",
       "    .dataframe tbody tr th {\n",
       "        vertical-align: top;\n",
       "    }\n",
       "\n",
       "    .dataframe thead th {\n",
       "        text-align: right;\n",
       "    }\n",
       "</style>\n",
       "<table border=\"1\" class=\"dataframe\">\n",
       "  <thead>\n",
       "    <tr style=\"text-align: right;\">\n",
       "      <th>reg_depart</th>\n",
       "      <th>ALGERIE</th>\n",
       "      <th>ANGLETERRE</th>\n",
       "      <th>BRNORD</th>\n",
       "      <th>BRSUD</th>\n",
       "      <th>ESPAGNE</th>\n",
       "      <th>EXOTIQUE</th>\n",
       "      <th>FRATLANTIQUE</th>\n",
       "      <th>FRMED</th>\n",
       "      <th>ITALIE</th>\n",
       "      <th>MANCHEST</th>\n",
       "      <th>PORTUGAL</th>\n",
       "      <th>Total</th>\n",
       "    </tr>\n",
       "    <tr>\n",
       "      <th>deux_ans_str</th>\n",
       "      <th></th>\n",
       "      <th></th>\n",
       "      <th></th>\n",
       "      <th></th>\n",
       "      <th></th>\n",
       "      <th></th>\n",
       "      <th></th>\n",
       "      <th></th>\n",
       "      <th></th>\n",
       "      <th></th>\n",
       "      <th></th>\n",
       "      <th></th>\n",
       "    </tr>\n",
       "  </thead>\n",
       "  <tbody>\n",
       "    <tr>\n",
       "      <th>1848-1850</th>\n",
       "      <td>2</td>\n",
       "      <td>3</td>\n",
       "      <td>202</td>\n",
       "      <td>0</td>\n",
       "      <td>1</td>\n",
       "      <td>0</td>\n",
       "      <td>5</td>\n",
       "      <td>55</td>\n",
       "      <td>10</td>\n",
       "      <td>0</td>\n",
       "      <td>0</td>\n",
       "      <td>278</td>\n",
       "    </tr>\n",
       "    <tr>\n",
       "      <th>1850-1852</th>\n",
       "      <td>0</td>\n",
       "      <td>0</td>\n",
       "      <td>178</td>\n",
       "      <td>0</td>\n",
       "      <td>4</td>\n",
       "      <td>15</td>\n",
       "      <td>14</td>\n",
       "      <td>41</td>\n",
       "      <td>37</td>\n",
       "      <td>12</td>\n",
       "      <td>0</td>\n",
       "      <td>301</td>\n",
       "    </tr>\n",
       "    <tr>\n",
       "      <th>1852-1854</th>\n",
       "      <td>0</td>\n",
       "      <td>0</td>\n",
       "      <td>250</td>\n",
       "      <td>17</td>\n",
       "      <td>20</td>\n",
       "      <td>0</td>\n",
       "      <td>5</td>\n",
       "      <td>67</td>\n",
       "      <td>36</td>\n",
       "      <td>17</td>\n",
       "      <td>1</td>\n",
       "      <td>413</td>\n",
       "    </tr>\n",
       "    <tr>\n",
       "      <th>1854-1856</th>\n",
       "      <td>0</td>\n",
       "      <td>0</td>\n",
       "      <td>201</td>\n",
       "      <td>0</td>\n",
       "      <td>0</td>\n",
       "      <td>0</td>\n",
       "      <td>14</td>\n",
       "      <td>69</td>\n",
       "      <td>2</td>\n",
       "      <td>0</td>\n",
       "      <td>0</td>\n",
       "      <td>286</td>\n",
       "    </tr>\n",
       "    <tr>\n",
       "      <th>1856-1858</th>\n",
       "      <td>0</td>\n",
       "      <td>7</td>\n",
       "      <td>66</td>\n",
       "      <td>0</td>\n",
       "      <td>0</td>\n",
       "      <td>0</td>\n",
       "      <td>10</td>\n",
       "      <td>46</td>\n",
       "      <td>6</td>\n",
       "      <td>6</td>\n",
       "      <td>0</td>\n",
       "      <td>141</td>\n",
       "    </tr>\n",
       "    <tr>\n",
       "      <th>1858-1860</th>\n",
       "      <td>0</td>\n",
       "      <td>0</td>\n",
       "      <td>6</td>\n",
       "      <td>0</td>\n",
       "      <td>0</td>\n",
       "      <td>0</td>\n",
       "      <td>4</td>\n",
       "      <td>1</td>\n",
       "      <td>4</td>\n",
       "      <td>0</td>\n",
       "      <td>0</td>\n",
       "      <td>15</td>\n",
       "    </tr>\n",
       "    <tr>\n",
       "      <th>Total</th>\n",
       "      <td>2</td>\n",
       "      <td>10</td>\n",
       "      <td>903</td>\n",
       "      <td>17</td>\n",
       "      <td>25</td>\n",
       "      <td>15</td>\n",
       "      <td>52</td>\n",
       "      <td>279</td>\n",
       "      <td>95</td>\n",
       "      <td>35</td>\n",
       "      <td>1</td>\n",
       "      <td>1434</td>\n",
       "    </tr>\n",
       "  </tbody>\n",
       "</table>\n",
       "</div>"
      ],
      "text/plain": [
       "reg_depart    ALGERIE   ANGLETERRE   BRNORD   BRSUD   ESPAGNE   EXOTIQUE   \\\n",
       "deux_ans_str                                                                \n",
       "1848-1850            2            3      202       0         1          0   \n",
       "1850-1852            0            0      178       0         4         15   \n",
       "1852-1854            0            0      250      17        20          0   \n",
       "1854-1856            0            0      201       0         0          0   \n",
       "1856-1858            0            7       66       0         0          0   \n",
       "1858-1860            0            0        6       0         0          0   \n",
       "Total                2           10      903      17        25         15   \n",
       "\n",
       "reg_depart    FRATLANTIQUE   FRMED   ITALIE   MANCHEST   PORTUGAL   Total  \n",
       "deux_ans_str                                                               \n",
       "1848-1850                 5      55       10          0          0    278  \n",
       "1850-1852                14      41       37         12          0    301  \n",
       "1852-1854                 5      67       36         17          1    413  \n",
       "1854-1856                14      69        2          0          0    286  \n",
       "1856-1858                10      46        6          6          0    141  \n",
       "1858-1860                 4       1        4          0          0     15  \n",
       "Total                    52     279       95         35          1   1434  "
      ]
     },
     "execution_count": 135,
     "metadata": {},
     "output_type": "execute_result"
    }
   ],
   "source": [
    "X = 'reg_depart'\n",
    "Y = 'deux_ans_str'\n",
    "\n",
    "pt = etapes[[Y,X]].pivot_table(index=Y,columns=X,aggfunc=len, \\\n",
    "        margins=True,margins_name=\"Total\") \\\n",
    "        .fillna(0).astype(int).sort_values(by=Y, ascending=True)\n",
    "pt"
   ]
  },
  {
   "cell_type": "code",
   "execution_count": 136,
   "id": "private-things",
   "metadata": {},
   "outputs": [
    {
     "name": "stdout",
     "output_type": "stream",
     "text": [
      "335.1964562422401\n"
     ]
    },
    {
     "data": {
      "image/png": "[encoded data removed]",
      "text/plain": [
       "<Figure size 864x432 with 2 Axes>"
      ]
     },
     "metadata": {
      "needs_background": "light"
     },
     "output_type": "display_data"
    }
   ],
   "source": [
    "table_chi2(pt,(12,6))"
   ]
  },
  {
   "cell_type": "code",
   "execution_count": 137,
   "id": "mysterious-evidence",
   "metadata": {},
   "outputs": [
    {
     "data": {
      "image/png": "[encoded data removed]",
      "text/plain": [
       "<Figure size 1152x576 with 1 Axes>"
      ]
     },
     "metadata": {
      "needs_background": "light"
     },
     "output_type": "display_data"
    }
   ],
   "source": [
    "X = 'reg_depart'\n",
    "Y = 'deux_ans'\n",
    "\n",
    "g = etapes[[Y,X]].pivot_table(index=Y,columns=X,aggfunc=len) \\\n",
    "        .fillna(0).astype(int).sort_values(by=Y, ascending=False) \\\n",
    "        .plot( kind='barh', stacked=True,  width=0.4,  figsize=(16,8),  title = \"Effectifs des régions par étape et période\")\n",
    "plt.xticks(rotation=45)\n",
    "plt.show()"
   ]
  }
 ],
 "metadata": {
  "kernelspec": {
   "display_name": "Py 3.7 HN sparql",
   "language": "python",
   "name": "py37_hn_sparql"
  },
  "language_info": {
   "codemirror_mode": {
    "name": "ipython",
    "version": 3
   },
   "file_extension": ".py",
   "mimetype": "text/x-python",
   "name": "python",
   "nbconvert_exporter": "python",
   "pygments_lexer": "ipython3",
   "version": "3.7.10"
  }
 },
 "nbformat": 4,
 "nbformat_minor": 5
}
